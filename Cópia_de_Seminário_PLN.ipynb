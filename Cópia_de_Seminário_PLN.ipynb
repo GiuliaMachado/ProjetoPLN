{
  "nbformat": 4,
  "nbformat_minor": 0,
  "metadata": {
    "colab": {
      "provenance": []
    },
    "kernelspec": {
      "name": "python3",
      "display_name": "Python 3"
    },
    "language_info": {
      "name": "python"
    },
    "widgets": {
      "application/vnd.jupyter.widget-state+json": {
        "1eabc4e19dc447798bf984a5d27f70f3": {
          "model_module": "@jupyter-widgets/controls",
          "model_name": "HBoxModel",
          "model_module_version": "1.5.0",
          "state": {
            "_dom_classes": [],
            "_model_module": "@jupyter-widgets/controls",
            "_model_module_version": "1.5.0",
            "_model_name": "HBoxModel",
            "_view_count": null,
            "_view_module": "@jupyter-widgets/controls",
            "_view_module_version": "1.5.0",
            "_view_name": "HBoxView",
            "box_style": "",
            "children": [
              "IPY_MODEL_7ce90ee2ab5447dc9719c965b0c49513",
              "IPY_MODEL_5665df942bec49cdb65f272aa4871b90",
              "IPY_MODEL_f4c2910c3b0442a7b2668b671ff9087c"
            ],
            "layout": "IPY_MODEL_61e1da41902f41ef99a56030ead6d213"
          }
        },
        "7ce90ee2ab5447dc9719c965b0c49513": {
          "model_module": "@jupyter-widgets/controls",
          "model_name": "HTMLModel",
          "model_module_version": "1.5.0",
          "state": {
            "_dom_classes": [],
            "_model_module": "@jupyter-widgets/controls",
            "_model_module_version": "1.5.0",
            "_model_name": "HTMLModel",
            "_view_count": null,
            "_view_module": "@jupyter-widgets/controls",
            "_view_module_version": "1.5.0",
            "_view_name": "HTMLView",
            "description": "",
            "description_tooltip": null,
            "layout": "IPY_MODEL_0a7285baf29343889eaa00557dfa2c66",
            "placeholder": "​",
            "style": "IPY_MODEL_e40a51fd1a324321803086e1279a30d2",
            "value": "modules.json: 100%"
          }
        },
        "5665df942bec49cdb65f272aa4871b90": {
          "model_module": "@jupyter-widgets/controls",
          "model_name": "FloatProgressModel",
          "model_module_version": "1.5.0",
          "state": {
            "_dom_classes": [],
            "_model_module": "@jupyter-widgets/controls",
            "_model_module_version": "1.5.0",
            "_model_name": "FloatProgressModel",
            "_view_count": null,
            "_view_module": "@jupyter-widgets/controls",
            "_view_module_version": "1.5.0",
            "_view_name": "ProgressView",
            "bar_style": "success",
            "description": "",
            "description_tooltip": null,
            "layout": "IPY_MODEL_fdc6fb594c094eb8934f5af94de7d16f",
            "max": 349,
            "min": 0,
            "orientation": "horizontal",
            "style": "IPY_MODEL_2e19e0b142bd4873b0a4ae47aa2e9f8a",
            "value": 349
          }
        },
        "f4c2910c3b0442a7b2668b671ff9087c": {
          "model_module": "@jupyter-widgets/controls",
          "model_name": "HTMLModel",
          "model_module_version": "1.5.0",
          "state": {
            "_dom_classes": [],
            "_model_module": "@jupyter-widgets/controls",
            "_model_module_version": "1.5.0",
            "_model_name": "HTMLModel",
            "_view_count": null,
            "_view_module": "@jupyter-widgets/controls",
            "_view_module_version": "1.5.0",
            "_view_name": "HTMLView",
            "description": "",
            "description_tooltip": null,
            "layout": "IPY_MODEL_6590fa97f2c94fe19ff6538d8c67e30e",
            "placeholder": "​",
            "style": "IPY_MODEL_4f5f6a77615943d6879fe77177f0869a",
            "value": " 349/349 [00:00&lt;00:00, 5.60kB/s]"
          }
        },
        "61e1da41902f41ef99a56030ead6d213": {
          "model_module": "@jupyter-widgets/base",
          "model_name": "LayoutModel",
          "model_module_version": "1.2.0",
          "state": {
            "_model_module": "@jupyter-widgets/base",
            "_model_module_version": "1.2.0",
            "_model_name": "LayoutModel",
            "_view_count": null,
            "_view_module": "@jupyter-widgets/base",
            "_view_module_version": "1.2.0",
            "_view_name": "LayoutView",
            "align_content": null,
            "align_items": null,
            "align_self": null,
            "border": null,
            "bottom": null,
            "display": null,
            "flex": null,
            "flex_flow": null,
            "grid_area": null,
            "grid_auto_columns": null,
            "grid_auto_flow": null,
            "grid_auto_rows": null,
            "grid_column": null,
            "grid_gap": null,
            "grid_row": null,
            "grid_template_areas": null,
            "grid_template_columns": null,
            "grid_template_rows": null,
            "height": null,
            "justify_content": null,
            "justify_items": null,
            "left": null,
            "margin": null,
            "max_height": null,
            "max_width": null,
            "min_height": null,
            "min_width": null,
            "object_fit": null,
            "object_position": null,
            "order": null,
            "overflow": null,
            "overflow_x": null,
            "overflow_y": null,
            "padding": null,
            "right": null,
            "top": null,
            "visibility": null,
            "width": null
          }
        },
        "0a7285baf29343889eaa00557dfa2c66": {
          "model_module": "@jupyter-widgets/base",
          "model_name": "LayoutModel",
          "model_module_version": "1.2.0",
          "state": {
            "_model_module": "@jupyter-widgets/base",
            "_model_module_version": "1.2.0",
            "_model_name": "LayoutModel",
            "_view_count": null,
            "_view_module": "@jupyter-widgets/base",
            "_view_module_version": "1.2.0",
            "_view_name": "LayoutView",
            "align_content": null,
            "align_items": null,
            "align_self": null,
            "border": null,
            "bottom": null,
            "display": null,
            "flex": null,
            "flex_flow": null,
            "grid_area": null,
            "grid_auto_columns": null,
            "grid_auto_flow": null,
            "grid_auto_rows": null,
            "grid_column": null,
            "grid_gap": null,
            "grid_row": null,
            "grid_template_areas": null,
            "grid_template_columns": null,
            "grid_template_rows": null,
            "height": null,
            "justify_content": null,
            "justify_items": null,
            "left": null,
            "margin": null,
            "max_height": null,
            "max_width": null,
            "min_height": null,
            "min_width": null,
            "object_fit": null,
            "object_position": null,
            "order": null,
            "overflow": null,
            "overflow_x": null,
            "overflow_y": null,
            "padding": null,
            "right": null,
            "top": null,
            "visibility": null,
            "width": null
          }
        },
        "e40a51fd1a324321803086e1279a30d2": {
          "model_module": "@jupyter-widgets/controls",
          "model_name": "DescriptionStyleModel",
          "model_module_version": "1.5.0",
          "state": {
            "_model_module": "@jupyter-widgets/controls",
            "_model_module_version": "1.5.0",
            "_model_name": "DescriptionStyleModel",
            "_view_count": null,
            "_view_module": "@jupyter-widgets/base",
            "_view_module_version": "1.2.0",
            "_view_name": "StyleView",
            "description_width": ""
          }
        },
        "fdc6fb594c094eb8934f5af94de7d16f": {
          "model_module": "@jupyter-widgets/base",
          "model_name": "LayoutModel",
          "model_module_version": "1.2.0",
          "state": {
            "_model_module": "@jupyter-widgets/base",
            "_model_module_version": "1.2.0",
            "_model_name": "LayoutModel",
            "_view_count": null,
            "_view_module": "@jupyter-widgets/base",
            "_view_module_version": "1.2.0",
            "_view_name": "LayoutView",
            "align_content": null,
            "align_items": null,
            "align_self": null,
            "border": null,
            "bottom": null,
            "display": null,
            "flex": null,
            "flex_flow": null,
            "grid_area": null,
            "grid_auto_columns": null,
            "grid_auto_flow": null,
            "grid_auto_rows": null,
            "grid_column": null,
            "grid_gap": null,
            "grid_row": null,
            "grid_template_areas": null,
            "grid_template_columns": null,
            "grid_template_rows": null,
            "height": null,
            "justify_content": null,
            "justify_items": null,
            "left": null,
            "margin": null,
            "max_height": null,
            "max_width": null,
            "min_height": null,
            "min_width": null,
            "object_fit": null,
            "object_position": null,
            "order": null,
            "overflow": null,
            "overflow_x": null,
            "overflow_y": null,
            "padding": null,
            "right": null,
            "top": null,
            "visibility": null,
            "width": null
          }
        },
        "2e19e0b142bd4873b0a4ae47aa2e9f8a": {
          "model_module": "@jupyter-widgets/controls",
          "model_name": "ProgressStyleModel",
          "model_module_version": "1.5.0",
          "state": {
            "_model_module": "@jupyter-widgets/controls",
            "_model_module_version": "1.5.0",
            "_model_name": "ProgressStyleModel",
            "_view_count": null,
            "_view_module": "@jupyter-widgets/base",
            "_view_module_version": "1.2.0",
            "_view_name": "StyleView",
            "bar_color": null,
            "description_width": ""
          }
        },
        "6590fa97f2c94fe19ff6538d8c67e30e": {
          "model_module": "@jupyter-widgets/base",
          "model_name": "LayoutModel",
          "model_module_version": "1.2.0",
          "state": {
            "_model_module": "@jupyter-widgets/base",
            "_model_module_version": "1.2.0",
            "_model_name": "LayoutModel",
            "_view_count": null,
            "_view_module": "@jupyter-widgets/base",
            "_view_module_version": "1.2.0",
            "_view_name": "LayoutView",
            "align_content": null,
            "align_items": null,
            "align_self": null,
            "border": null,
            "bottom": null,
            "display": null,
            "flex": null,
            "flex_flow": null,
            "grid_area": null,
            "grid_auto_columns": null,
            "grid_auto_flow": null,
            "grid_auto_rows": null,
            "grid_column": null,
            "grid_gap": null,
            "grid_row": null,
            "grid_template_areas": null,
            "grid_template_columns": null,
            "grid_template_rows": null,
            "height": null,
            "justify_content": null,
            "justify_items": null,
            "left": null,
            "margin": null,
            "max_height": null,
            "max_width": null,
            "min_height": null,
            "min_width": null,
            "object_fit": null,
            "object_position": null,
            "order": null,
            "overflow": null,
            "overflow_x": null,
            "overflow_y": null,
            "padding": null,
            "right": null,
            "top": null,
            "visibility": null,
            "width": null
          }
        },
        "4f5f6a77615943d6879fe77177f0869a": {
          "model_module": "@jupyter-widgets/controls",
          "model_name": "DescriptionStyleModel",
          "model_module_version": "1.5.0",
          "state": {
            "_model_module": "@jupyter-widgets/controls",
            "_model_module_version": "1.5.0",
            "_model_name": "DescriptionStyleModel",
            "_view_count": null,
            "_view_module": "@jupyter-widgets/base",
            "_view_module_version": "1.2.0",
            "_view_name": "StyleView",
            "description_width": ""
          }
        },
        "e284b8d5c3a24966bbf2d68bd3f848fc": {
          "model_module": "@jupyter-widgets/controls",
          "model_name": "HBoxModel",
          "model_module_version": "1.5.0",
          "state": {
            "_dom_classes": [],
            "_model_module": "@jupyter-widgets/controls",
            "_model_module_version": "1.5.0",
            "_model_name": "HBoxModel",
            "_view_count": null,
            "_view_module": "@jupyter-widgets/controls",
            "_view_module_version": "1.5.0",
            "_view_name": "HBoxView",
            "box_style": "",
            "children": [
              "IPY_MODEL_fedc472f571448ea953baf921636c3ce",
              "IPY_MODEL_b101067d7f1e4e6dab363c86985af47e",
              "IPY_MODEL_fc489ba04820475aa80ed1dc76a43587"
            ],
            "layout": "IPY_MODEL_83fa45f842be4efdae9b112260e822a2"
          }
        },
        "fedc472f571448ea953baf921636c3ce": {
          "model_module": "@jupyter-widgets/controls",
          "model_name": "HTMLModel",
          "model_module_version": "1.5.0",
          "state": {
            "_dom_classes": [],
            "_model_module": "@jupyter-widgets/controls",
            "_model_module_version": "1.5.0",
            "_model_name": "HTMLModel",
            "_view_count": null,
            "_view_module": "@jupyter-widgets/controls",
            "_view_module_version": "1.5.0",
            "_view_name": "HTMLView",
            "description": "",
            "description_tooltip": null,
            "layout": "IPY_MODEL_513fbe52b1f04d44a218739bc172365e",
            "placeholder": "​",
            "style": "IPY_MODEL_717f69fb7a074065ad08caae405d3b47",
            "value": "config_sentence_transformers.json: 100%"
          }
        },
        "b101067d7f1e4e6dab363c86985af47e": {
          "model_module": "@jupyter-widgets/controls",
          "model_name": "FloatProgressModel",
          "model_module_version": "1.5.0",
          "state": {
            "_dom_classes": [],
            "_model_module": "@jupyter-widgets/controls",
            "_model_module_version": "1.5.0",
            "_model_name": "FloatProgressModel",
            "_view_count": null,
            "_view_module": "@jupyter-widgets/controls",
            "_view_module_version": "1.5.0",
            "_view_name": "ProgressView",
            "bar_style": "success",
            "description": "",
            "description_tooltip": null,
            "layout": "IPY_MODEL_3aa75b42de594f9db1f2944e7d179bf3",
            "max": 116,
            "min": 0,
            "orientation": "horizontal",
            "style": "IPY_MODEL_f275f26c722b4cc3b83a709af23446b1",
            "value": 116
          }
        },
        "fc489ba04820475aa80ed1dc76a43587": {
          "model_module": "@jupyter-widgets/controls",
          "model_name": "HTMLModel",
          "model_module_version": "1.5.0",
          "state": {
            "_dom_classes": [],
            "_model_module": "@jupyter-widgets/controls",
            "_model_module_version": "1.5.0",
            "_model_name": "HTMLModel",
            "_view_count": null,
            "_view_module": "@jupyter-widgets/controls",
            "_view_module_version": "1.5.0",
            "_view_name": "HTMLView",
            "description": "",
            "description_tooltip": null,
            "layout": "IPY_MODEL_44e985115b744e9cbe69796d7bba70b6",
            "placeholder": "​",
            "style": "IPY_MODEL_5ab974237d894fa6bb9bffcdc1e6350a",
            "value": " 116/116 [00:00&lt;00:00, 2.76kB/s]"
          }
        },
        "83fa45f842be4efdae9b112260e822a2": {
          "model_module": "@jupyter-widgets/base",
          "model_name": "LayoutModel",
          "model_module_version": "1.2.0",
          "state": {
            "_model_module": "@jupyter-widgets/base",
            "_model_module_version": "1.2.0",
            "_model_name": "LayoutModel",
            "_view_count": null,
            "_view_module": "@jupyter-widgets/base",
            "_view_module_version": "1.2.0",
            "_view_name": "LayoutView",
            "align_content": null,
            "align_items": null,
            "align_self": null,
            "border": null,
            "bottom": null,
            "display": null,
            "flex": null,
            "flex_flow": null,
            "grid_area": null,
            "grid_auto_columns": null,
            "grid_auto_flow": null,
            "grid_auto_rows": null,
            "grid_column": null,
            "grid_gap": null,
            "grid_row": null,
            "grid_template_areas": null,
            "grid_template_columns": null,
            "grid_template_rows": null,
            "height": null,
            "justify_content": null,
            "justify_items": null,
            "left": null,
            "margin": null,
            "max_height": null,
            "max_width": null,
            "min_height": null,
            "min_width": null,
            "object_fit": null,
            "object_position": null,
            "order": null,
            "overflow": null,
            "overflow_x": null,
            "overflow_y": null,
            "padding": null,
            "right": null,
            "top": null,
            "visibility": null,
            "width": null
          }
        },
        "513fbe52b1f04d44a218739bc172365e": {
          "model_module": "@jupyter-widgets/base",
          "model_name": "LayoutModel",
          "model_module_version": "1.2.0",
          "state": {
            "_model_module": "@jupyter-widgets/base",
            "_model_module_version": "1.2.0",
            "_model_name": "LayoutModel",
            "_view_count": null,
            "_view_module": "@jupyter-widgets/base",
            "_view_module_version": "1.2.0",
            "_view_name": "LayoutView",
            "align_content": null,
            "align_items": null,
            "align_self": null,
            "border": null,
            "bottom": null,
            "display": null,
            "flex": null,
            "flex_flow": null,
            "grid_area": null,
            "grid_auto_columns": null,
            "grid_auto_flow": null,
            "grid_auto_rows": null,
            "grid_column": null,
            "grid_gap": null,
            "grid_row": null,
            "grid_template_areas": null,
            "grid_template_columns": null,
            "grid_template_rows": null,
            "height": null,
            "justify_content": null,
            "justify_items": null,
            "left": null,
            "margin": null,
            "max_height": null,
            "max_width": null,
            "min_height": null,
            "min_width": null,
            "object_fit": null,
            "object_position": null,
            "order": null,
            "overflow": null,
            "overflow_x": null,
            "overflow_y": null,
            "padding": null,
            "right": null,
            "top": null,
            "visibility": null,
            "width": null
          }
        },
        "717f69fb7a074065ad08caae405d3b47": {
          "model_module": "@jupyter-widgets/controls",
          "model_name": "DescriptionStyleModel",
          "model_module_version": "1.5.0",
          "state": {
            "_model_module": "@jupyter-widgets/controls",
            "_model_module_version": "1.5.0",
            "_model_name": "DescriptionStyleModel",
            "_view_count": null,
            "_view_module": "@jupyter-widgets/base",
            "_view_module_version": "1.2.0",
            "_view_name": "StyleView",
            "description_width": ""
          }
        },
        "3aa75b42de594f9db1f2944e7d179bf3": {
          "model_module": "@jupyter-widgets/base",
          "model_name": "LayoutModel",
          "model_module_version": "1.2.0",
          "state": {
            "_model_module": "@jupyter-widgets/base",
            "_model_module_version": "1.2.0",
            "_model_name": "LayoutModel",
            "_view_count": null,
            "_view_module": "@jupyter-widgets/base",
            "_view_module_version": "1.2.0",
            "_view_name": "LayoutView",
            "align_content": null,
            "align_items": null,
            "align_self": null,
            "border": null,
            "bottom": null,
            "display": null,
            "flex": null,
            "flex_flow": null,
            "grid_area": null,
            "grid_auto_columns": null,
            "grid_auto_flow": null,
            "grid_auto_rows": null,
            "grid_column": null,
            "grid_gap": null,
            "grid_row": null,
            "grid_template_areas": null,
            "grid_template_columns": null,
            "grid_template_rows": null,
            "height": null,
            "justify_content": null,
            "justify_items": null,
            "left": null,
            "margin": null,
            "max_height": null,
            "max_width": null,
            "min_height": null,
            "min_width": null,
            "object_fit": null,
            "object_position": null,
            "order": null,
            "overflow": null,
            "overflow_x": null,
            "overflow_y": null,
            "padding": null,
            "right": null,
            "top": null,
            "visibility": null,
            "width": null
          }
        },
        "f275f26c722b4cc3b83a709af23446b1": {
          "model_module": "@jupyter-widgets/controls",
          "model_name": "ProgressStyleModel",
          "model_module_version": "1.5.0",
          "state": {
            "_model_module": "@jupyter-widgets/controls",
            "_model_module_version": "1.5.0",
            "_model_name": "ProgressStyleModel",
            "_view_count": null,
            "_view_module": "@jupyter-widgets/base",
            "_view_module_version": "1.2.0",
            "_view_name": "StyleView",
            "bar_color": null,
            "description_width": ""
          }
        },
        "44e985115b744e9cbe69796d7bba70b6": {
          "model_module": "@jupyter-widgets/base",
          "model_name": "LayoutModel",
          "model_module_version": "1.2.0",
          "state": {
            "_model_module": "@jupyter-widgets/base",
            "_model_module_version": "1.2.0",
            "_model_name": "LayoutModel",
            "_view_count": null,
            "_view_module": "@jupyter-widgets/base",
            "_view_module_version": "1.2.0",
            "_view_name": "LayoutView",
            "align_content": null,
            "align_items": null,
            "align_self": null,
            "border": null,
            "bottom": null,
            "display": null,
            "flex": null,
            "flex_flow": null,
            "grid_area": null,
            "grid_auto_columns": null,
            "grid_auto_flow": null,
            "grid_auto_rows": null,
            "grid_column": null,
            "grid_gap": null,
            "grid_row": null,
            "grid_template_areas": null,
            "grid_template_columns": null,
            "grid_template_rows": null,
            "height": null,
            "justify_content": null,
            "justify_items": null,
            "left": null,
            "margin": null,
            "max_height": null,
            "max_width": null,
            "min_height": null,
            "min_width": null,
            "object_fit": null,
            "object_position": null,
            "order": null,
            "overflow": null,
            "overflow_x": null,
            "overflow_y": null,
            "padding": null,
            "right": null,
            "top": null,
            "visibility": null,
            "width": null
          }
        },
        "5ab974237d894fa6bb9bffcdc1e6350a": {
          "model_module": "@jupyter-widgets/controls",
          "model_name": "DescriptionStyleModel",
          "model_module_version": "1.5.0",
          "state": {
            "_model_module": "@jupyter-widgets/controls",
            "_model_module_version": "1.5.0",
            "_model_name": "DescriptionStyleModel",
            "_view_count": null,
            "_view_module": "@jupyter-widgets/base",
            "_view_module_version": "1.2.0",
            "_view_name": "StyleView",
            "description_width": ""
          }
        },
        "1fa9dcd6f53e4f12b1b097060f7d1b22": {
          "model_module": "@jupyter-widgets/controls",
          "model_name": "HBoxModel",
          "model_module_version": "1.5.0",
          "state": {
            "_dom_classes": [],
            "_model_module": "@jupyter-widgets/controls",
            "_model_module_version": "1.5.0",
            "_model_name": "HBoxModel",
            "_view_count": null,
            "_view_module": "@jupyter-widgets/controls",
            "_view_module_version": "1.5.0",
            "_view_name": "HBoxView",
            "box_style": "",
            "children": [
              "IPY_MODEL_09888a128fb44aa9ad8c8b60c5e52ab0",
              "IPY_MODEL_d86eaccdf2a14e808588b222278d1388",
              "IPY_MODEL_ac71ff539e4b4d558b52a57c0ae88aaa"
            ],
            "layout": "IPY_MODEL_00fdcb8a29034267b1d684c9a9886b72"
          }
        },
        "09888a128fb44aa9ad8c8b60c5e52ab0": {
          "model_module": "@jupyter-widgets/controls",
          "model_name": "HTMLModel",
          "model_module_version": "1.5.0",
          "state": {
            "_dom_classes": [],
            "_model_module": "@jupyter-widgets/controls",
            "_model_module_version": "1.5.0",
            "_model_name": "HTMLModel",
            "_view_count": null,
            "_view_module": "@jupyter-widgets/controls",
            "_view_module_version": "1.5.0",
            "_view_name": "HTMLView",
            "description": "",
            "description_tooltip": null,
            "layout": "IPY_MODEL_0a351f1387934ee0872375f240ca27d0",
            "placeholder": "​",
            "style": "IPY_MODEL_83954beb5c3649f99ebadf1b889fc15b",
            "value": "README.md: 100%"
          }
        },
        "d86eaccdf2a14e808588b222278d1388": {
          "model_module": "@jupyter-widgets/controls",
          "model_name": "FloatProgressModel",
          "model_module_version": "1.5.0",
          "state": {
            "_dom_classes": [],
            "_model_module": "@jupyter-widgets/controls",
            "_model_module_version": "1.5.0",
            "_model_name": "FloatProgressModel",
            "_view_count": null,
            "_view_module": "@jupyter-widgets/controls",
            "_view_module_version": "1.5.0",
            "_view_name": "ProgressView",
            "bar_style": "success",
            "description": "",
            "description_tooltip": null,
            "layout": "IPY_MODEL_309904a464854bc78315e5a9f7eb3026",
            "max": 10659,
            "min": 0,
            "orientation": "horizontal",
            "style": "IPY_MODEL_7bfa377a07d04ad4ab9924c529c9e596",
            "value": 10659
          }
        },
        "ac71ff539e4b4d558b52a57c0ae88aaa": {
          "model_module": "@jupyter-widgets/controls",
          "model_name": "HTMLModel",
          "model_module_version": "1.5.0",
          "state": {
            "_dom_classes": [],
            "_model_module": "@jupyter-widgets/controls",
            "_model_module_version": "1.5.0",
            "_model_name": "HTMLModel",
            "_view_count": null,
            "_view_module": "@jupyter-widgets/controls",
            "_view_module_version": "1.5.0",
            "_view_name": "HTMLView",
            "description": "",
            "description_tooltip": null,
            "layout": "IPY_MODEL_e2fe453ec0734ae493a82965eb86f69a",
            "placeholder": "​",
            "style": "IPY_MODEL_d68f066bdfa84b68856e3f8dc7d00828",
            "value": " 10.7k/10.7k [00:00&lt;00:00, 271kB/s]"
          }
        },
        "00fdcb8a29034267b1d684c9a9886b72": {
          "model_module": "@jupyter-widgets/base",
          "model_name": "LayoutModel",
          "model_module_version": "1.2.0",
          "state": {
            "_model_module": "@jupyter-widgets/base",
            "_model_module_version": "1.2.0",
            "_model_name": "LayoutModel",
            "_view_count": null,
            "_view_module": "@jupyter-widgets/base",
            "_view_module_version": "1.2.0",
            "_view_name": "LayoutView",
            "align_content": null,
            "align_items": null,
            "align_self": null,
            "border": null,
            "bottom": null,
            "display": null,
            "flex": null,
            "flex_flow": null,
            "grid_area": null,
            "grid_auto_columns": null,
            "grid_auto_flow": null,
            "grid_auto_rows": null,
            "grid_column": null,
            "grid_gap": null,
            "grid_row": null,
            "grid_template_areas": null,
            "grid_template_columns": null,
            "grid_template_rows": null,
            "height": null,
            "justify_content": null,
            "justify_items": null,
            "left": null,
            "margin": null,
            "max_height": null,
            "max_width": null,
            "min_height": null,
            "min_width": null,
            "object_fit": null,
            "object_position": null,
            "order": null,
            "overflow": null,
            "overflow_x": null,
            "overflow_y": null,
            "padding": null,
            "right": null,
            "top": null,
            "visibility": null,
            "width": null
          }
        },
        "0a351f1387934ee0872375f240ca27d0": {
          "model_module": "@jupyter-widgets/base",
          "model_name": "LayoutModel",
          "model_module_version": "1.2.0",
          "state": {
            "_model_module": "@jupyter-widgets/base",
            "_model_module_version": "1.2.0",
            "_model_name": "LayoutModel",
            "_view_count": null,
            "_view_module": "@jupyter-widgets/base",
            "_view_module_version": "1.2.0",
            "_view_name": "LayoutView",
            "align_content": null,
            "align_items": null,
            "align_self": null,
            "border": null,
            "bottom": null,
            "display": null,
            "flex": null,
            "flex_flow": null,
            "grid_area": null,
            "grid_auto_columns": null,
            "grid_auto_flow": null,
            "grid_auto_rows": null,
            "grid_column": null,
            "grid_gap": null,
            "grid_row": null,
            "grid_template_areas": null,
            "grid_template_columns": null,
            "grid_template_rows": null,
            "height": null,
            "justify_content": null,
            "justify_items": null,
            "left": null,
            "margin": null,
            "max_height": null,
            "max_width": null,
            "min_height": null,
            "min_width": null,
            "object_fit": null,
            "object_position": null,
            "order": null,
            "overflow": null,
            "overflow_x": null,
            "overflow_y": null,
            "padding": null,
            "right": null,
            "top": null,
            "visibility": null,
            "width": null
          }
        },
        "83954beb5c3649f99ebadf1b889fc15b": {
          "model_module": "@jupyter-widgets/controls",
          "model_name": "DescriptionStyleModel",
          "model_module_version": "1.5.0",
          "state": {
            "_model_module": "@jupyter-widgets/controls",
            "_model_module_version": "1.5.0",
            "_model_name": "DescriptionStyleModel",
            "_view_count": null,
            "_view_module": "@jupyter-widgets/base",
            "_view_module_version": "1.2.0",
            "_view_name": "StyleView",
            "description_width": ""
          }
        },
        "309904a464854bc78315e5a9f7eb3026": {
          "model_module": "@jupyter-widgets/base",
          "model_name": "LayoutModel",
          "model_module_version": "1.2.0",
          "state": {
            "_model_module": "@jupyter-widgets/base",
            "_model_module_version": "1.2.0",
            "_model_name": "LayoutModel",
            "_view_count": null,
            "_view_module": "@jupyter-widgets/base",
            "_view_module_version": "1.2.0",
            "_view_name": "LayoutView",
            "align_content": null,
            "align_items": null,
            "align_self": null,
            "border": null,
            "bottom": null,
            "display": null,
            "flex": null,
            "flex_flow": null,
            "grid_area": null,
            "grid_auto_columns": null,
            "grid_auto_flow": null,
            "grid_auto_rows": null,
            "grid_column": null,
            "grid_gap": null,
            "grid_row": null,
            "grid_template_areas": null,
            "grid_template_columns": null,
            "grid_template_rows": null,
            "height": null,
            "justify_content": null,
            "justify_items": null,
            "left": null,
            "margin": null,
            "max_height": null,
            "max_width": null,
            "min_height": null,
            "min_width": null,
            "object_fit": null,
            "object_position": null,
            "order": null,
            "overflow": null,
            "overflow_x": null,
            "overflow_y": null,
            "padding": null,
            "right": null,
            "top": null,
            "visibility": null,
            "width": null
          }
        },
        "7bfa377a07d04ad4ab9924c529c9e596": {
          "model_module": "@jupyter-widgets/controls",
          "model_name": "ProgressStyleModel",
          "model_module_version": "1.5.0",
          "state": {
            "_model_module": "@jupyter-widgets/controls",
            "_model_module_version": "1.5.0",
            "_model_name": "ProgressStyleModel",
            "_view_count": null,
            "_view_module": "@jupyter-widgets/base",
            "_view_module_version": "1.2.0",
            "_view_name": "StyleView",
            "bar_color": null,
            "description_width": ""
          }
        },
        "e2fe453ec0734ae493a82965eb86f69a": {
          "model_module": "@jupyter-widgets/base",
          "model_name": "LayoutModel",
          "model_module_version": "1.2.0",
          "state": {
            "_model_module": "@jupyter-widgets/base",
            "_model_module_version": "1.2.0",
            "_model_name": "LayoutModel",
            "_view_count": null,
            "_view_module": "@jupyter-widgets/base",
            "_view_module_version": "1.2.0",
            "_view_name": "LayoutView",
            "align_content": null,
            "align_items": null,
            "align_self": null,
            "border": null,
            "bottom": null,
            "display": null,
            "flex": null,
            "flex_flow": null,
            "grid_area": null,
            "grid_auto_columns": null,
            "grid_auto_flow": null,
            "grid_auto_rows": null,
            "grid_column": null,
            "grid_gap": null,
            "grid_row": null,
            "grid_template_areas": null,
            "grid_template_columns": null,
            "grid_template_rows": null,
            "height": null,
            "justify_content": null,
            "justify_items": null,
            "left": null,
            "margin": null,
            "max_height": null,
            "max_width": null,
            "min_height": null,
            "min_width": null,
            "object_fit": null,
            "object_position": null,
            "order": null,
            "overflow": null,
            "overflow_x": null,
            "overflow_y": null,
            "padding": null,
            "right": null,
            "top": null,
            "visibility": null,
            "width": null
          }
        },
        "d68f066bdfa84b68856e3f8dc7d00828": {
          "model_module": "@jupyter-widgets/controls",
          "model_name": "DescriptionStyleModel",
          "model_module_version": "1.5.0",
          "state": {
            "_model_module": "@jupyter-widgets/controls",
            "_model_module_version": "1.5.0",
            "_model_name": "DescriptionStyleModel",
            "_view_count": null,
            "_view_module": "@jupyter-widgets/base",
            "_view_module_version": "1.2.0",
            "_view_name": "StyleView",
            "description_width": ""
          }
        },
        "0ae9fd4485e0425b97898671efda3217": {
          "model_module": "@jupyter-widgets/controls",
          "model_name": "HBoxModel",
          "model_module_version": "1.5.0",
          "state": {
            "_dom_classes": [],
            "_model_module": "@jupyter-widgets/controls",
            "_model_module_version": "1.5.0",
            "_model_name": "HBoxModel",
            "_view_count": null,
            "_view_module": "@jupyter-widgets/controls",
            "_view_module_version": "1.5.0",
            "_view_name": "HBoxView",
            "box_style": "",
            "children": [
              "IPY_MODEL_2634b5614c574e60a8b812279898381a",
              "IPY_MODEL_56c0fd05d686453fad624e35dff522d7",
              "IPY_MODEL_a6af285de04f4acb8887da4da2ce236b"
            ],
            "layout": "IPY_MODEL_9853399670cd4344991b04911f3e7f3e"
          }
        },
        "2634b5614c574e60a8b812279898381a": {
          "model_module": "@jupyter-widgets/controls",
          "model_name": "HTMLModel",
          "model_module_version": "1.5.0",
          "state": {
            "_dom_classes": [],
            "_model_module": "@jupyter-widgets/controls",
            "_model_module_version": "1.5.0",
            "_model_name": "HTMLModel",
            "_view_count": null,
            "_view_module": "@jupyter-widgets/controls",
            "_view_module_version": "1.5.0",
            "_view_name": "HTMLView",
            "description": "",
            "description_tooltip": null,
            "layout": "IPY_MODEL_7e5ed685f9de40dfa3f967da39bccde4",
            "placeholder": "​",
            "style": "IPY_MODEL_0b7051974adb4ff08ff2ff8a4bf4aef4",
            "value": "sentence_bert_config.json: 100%"
          }
        },
        "56c0fd05d686453fad624e35dff522d7": {
          "model_module": "@jupyter-widgets/controls",
          "model_name": "FloatProgressModel",
          "model_module_version": "1.5.0",
          "state": {
            "_dom_classes": [],
            "_model_module": "@jupyter-widgets/controls",
            "_model_module_version": "1.5.0",
            "_model_name": "FloatProgressModel",
            "_view_count": null,
            "_view_module": "@jupyter-widgets/controls",
            "_view_module_version": "1.5.0",
            "_view_name": "ProgressView",
            "bar_style": "success",
            "description": "",
            "description_tooltip": null,
            "layout": "IPY_MODEL_e006a9a94aff4be8b29f948dc7222ba0",
            "max": 53,
            "min": 0,
            "orientation": "horizontal",
            "style": "IPY_MODEL_edff47146a9c42288130ce15013719a0",
            "value": 53
          }
        },
        "a6af285de04f4acb8887da4da2ce236b": {
          "model_module": "@jupyter-widgets/controls",
          "model_name": "HTMLModel",
          "model_module_version": "1.5.0",
          "state": {
            "_dom_classes": [],
            "_model_module": "@jupyter-widgets/controls",
            "_model_module_version": "1.5.0",
            "_model_name": "HTMLModel",
            "_view_count": null,
            "_view_module": "@jupyter-widgets/controls",
            "_view_module_version": "1.5.0",
            "_view_name": "HTMLView",
            "description": "",
            "description_tooltip": null,
            "layout": "IPY_MODEL_5e0ea0b32bd54e009808f0754ec0b236",
            "placeholder": "​",
            "style": "IPY_MODEL_159e718b2d874114a11446035947e1c1",
            "value": " 53.0/53.0 [00:00&lt;00:00, 1.14kB/s]"
          }
        },
        "9853399670cd4344991b04911f3e7f3e": {
          "model_module": "@jupyter-widgets/base",
          "model_name": "LayoutModel",
          "model_module_version": "1.2.0",
          "state": {
            "_model_module": "@jupyter-widgets/base",
            "_model_module_version": "1.2.0",
            "_model_name": "LayoutModel",
            "_view_count": null,
            "_view_module": "@jupyter-widgets/base",
            "_view_module_version": "1.2.0",
            "_view_name": "LayoutView",
            "align_content": null,
            "align_items": null,
            "align_self": null,
            "border": null,
            "bottom": null,
            "display": null,
            "flex": null,
            "flex_flow": null,
            "grid_area": null,
            "grid_auto_columns": null,
            "grid_auto_flow": null,
            "grid_auto_rows": null,
            "grid_column": null,
            "grid_gap": null,
            "grid_row": null,
            "grid_template_areas": null,
            "grid_template_columns": null,
            "grid_template_rows": null,
            "height": null,
            "justify_content": null,
            "justify_items": null,
            "left": null,
            "margin": null,
            "max_height": null,
            "max_width": null,
            "min_height": null,
            "min_width": null,
            "object_fit": null,
            "object_position": null,
            "order": null,
            "overflow": null,
            "overflow_x": null,
            "overflow_y": null,
            "padding": null,
            "right": null,
            "top": null,
            "visibility": null,
            "width": null
          }
        },
        "7e5ed685f9de40dfa3f967da39bccde4": {
          "model_module": "@jupyter-widgets/base",
          "model_name": "LayoutModel",
          "model_module_version": "1.2.0",
          "state": {
            "_model_module": "@jupyter-widgets/base",
            "_model_module_version": "1.2.0",
            "_model_name": "LayoutModel",
            "_view_count": null,
            "_view_module": "@jupyter-widgets/base",
            "_view_module_version": "1.2.0",
            "_view_name": "LayoutView",
            "align_content": null,
            "align_items": null,
            "align_self": null,
            "border": null,
            "bottom": null,
            "display": null,
            "flex": null,
            "flex_flow": null,
            "grid_area": null,
            "grid_auto_columns": null,
            "grid_auto_flow": null,
            "grid_auto_rows": null,
            "grid_column": null,
            "grid_gap": null,
            "grid_row": null,
            "grid_template_areas": null,
            "grid_template_columns": null,
            "grid_template_rows": null,
            "height": null,
            "justify_content": null,
            "justify_items": null,
            "left": null,
            "margin": null,
            "max_height": null,
            "max_width": null,
            "min_height": null,
            "min_width": null,
            "object_fit": null,
            "object_position": null,
            "order": null,
            "overflow": null,
            "overflow_x": null,
            "overflow_y": null,
            "padding": null,
            "right": null,
            "top": null,
            "visibility": null,
            "width": null
          }
        },
        "0b7051974adb4ff08ff2ff8a4bf4aef4": {
          "model_module": "@jupyter-widgets/controls",
          "model_name": "DescriptionStyleModel",
          "model_module_version": "1.5.0",
          "state": {
            "_model_module": "@jupyter-widgets/controls",
            "_model_module_version": "1.5.0",
            "_model_name": "DescriptionStyleModel",
            "_view_count": null,
            "_view_module": "@jupyter-widgets/base",
            "_view_module_version": "1.2.0",
            "_view_name": "StyleView",
            "description_width": ""
          }
        },
        "e006a9a94aff4be8b29f948dc7222ba0": {
          "model_module": "@jupyter-widgets/base",
          "model_name": "LayoutModel",
          "model_module_version": "1.2.0",
          "state": {
            "_model_module": "@jupyter-widgets/base",
            "_model_module_version": "1.2.0",
            "_model_name": "LayoutModel",
            "_view_count": null,
            "_view_module": "@jupyter-widgets/base",
            "_view_module_version": "1.2.0",
            "_view_name": "LayoutView",
            "align_content": null,
            "align_items": null,
            "align_self": null,
            "border": null,
            "bottom": null,
            "display": null,
            "flex": null,
            "flex_flow": null,
            "grid_area": null,
            "grid_auto_columns": null,
            "grid_auto_flow": null,
            "grid_auto_rows": null,
            "grid_column": null,
            "grid_gap": null,
            "grid_row": null,
            "grid_template_areas": null,
            "grid_template_columns": null,
            "grid_template_rows": null,
            "height": null,
            "justify_content": null,
            "justify_items": null,
            "left": null,
            "margin": null,
            "max_height": null,
            "max_width": null,
            "min_height": null,
            "min_width": null,
            "object_fit": null,
            "object_position": null,
            "order": null,
            "overflow": null,
            "overflow_x": null,
            "overflow_y": null,
            "padding": null,
            "right": null,
            "top": null,
            "visibility": null,
            "width": null
          }
        },
        "edff47146a9c42288130ce15013719a0": {
          "model_module": "@jupyter-widgets/controls",
          "model_name": "ProgressStyleModel",
          "model_module_version": "1.5.0",
          "state": {
            "_model_module": "@jupyter-widgets/controls",
            "_model_module_version": "1.5.0",
            "_model_name": "ProgressStyleModel",
            "_view_count": null,
            "_view_module": "@jupyter-widgets/base",
            "_view_module_version": "1.2.0",
            "_view_name": "StyleView",
            "bar_color": null,
            "description_width": ""
          }
        },
        "5e0ea0b32bd54e009808f0754ec0b236": {
          "model_module": "@jupyter-widgets/base",
          "model_name": "LayoutModel",
          "model_module_version": "1.2.0",
          "state": {
            "_model_module": "@jupyter-widgets/base",
            "_model_module_version": "1.2.0",
            "_model_name": "LayoutModel",
            "_view_count": null,
            "_view_module": "@jupyter-widgets/base",
            "_view_module_version": "1.2.0",
            "_view_name": "LayoutView",
            "align_content": null,
            "align_items": null,
            "align_self": null,
            "border": null,
            "bottom": null,
            "display": null,
            "flex": null,
            "flex_flow": null,
            "grid_area": null,
            "grid_auto_columns": null,
            "grid_auto_flow": null,
            "grid_auto_rows": null,
            "grid_column": null,
            "grid_gap": null,
            "grid_row": null,
            "grid_template_areas": null,
            "grid_template_columns": null,
            "grid_template_rows": null,
            "height": null,
            "justify_content": null,
            "justify_items": null,
            "left": null,
            "margin": null,
            "max_height": null,
            "max_width": null,
            "min_height": null,
            "min_width": null,
            "object_fit": null,
            "object_position": null,
            "order": null,
            "overflow": null,
            "overflow_x": null,
            "overflow_y": null,
            "padding": null,
            "right": null,
            "top": null,
            "visibility": null,
            "width": null
          }
        },
        "159e718b2d874114a11446035947e1c1": {
          "model_module": "@jupyter-widgets/controls",
          "model_name": "DescriptionStyleModel",
          "model_module_version": "1.5.0",
          "state": {
            "_model_module": "@jupyter-widgets/controls",
            "_model_module_version": "1.5.0",
            "_model_name": "DescriptionStyleModel",
            "_view_count": null,
            "_view_module": "@jupyter-widgets/base",
            "_view_module_version": "1.2.0",
            "_view_name": "StyleView",
            "description_width": ""
          }
        },
        "b28c94a201484ed4aafc037128ebef9e": {
          "model_module": "@jupyter-widgets/controls",
          "model_name": "HBoxModel",
          "model_module_version": "1.5.0",
          "state": {
            "_dom_classes": [],
            "_model_module": "@jupyter-widgets/controls",
            "_model_module_version": "1.5.0",
            "_model_name": "HBoxModel",
            "_view_count": null,
            "_view_module": "@jupyter-widgets/controls",
            "_view_module_version": "1.5.0",
            "_view_name": "HBoxView",
            "box_style": "",
            "children": [
              "IPY_MODEL_4d143a9aabad471cb80df8b002dc7165",
              "IPY_MODEL_1801cb2735d447bfbb1363e22c2382a7",
              "IPY_MODEL_1dcf15161a594f2c80b0d50aedd6944a"
            ],
            "layout": "IPY_MODEL_b963fc7c0fd44fe6a0bdb96d6fb2480b"
          }
        },
        "4d143a9aabad471cb80df8b002dc7165": {
          "model_module": "@jupyter-widgets/controls",
          "model_name": "HTMLModel",
          "model_module_version": "1.5.0",
          "state": {
            "_dom_classes": [],
            "_model_module": "@jupyter-widgets/controls",
            "_model_module_version": "1.5.0",
            "_model_name": "HTMLModel",
            "_view_count": null,
            "_view_module": "@jupyter-widgets/controls",
            "_view_module_version": "1.5.0",
            "_view_name": "HTMLView",
            "description": "",
            "description_tooltip": null,
            "layout": "IPY_MODEL_41d6c3904741496c9c9c1f0d71056c21",
            "placeholder": "​",
            "style": "IPY_MODEL_cff6011fbd5341bea059fe68bcdf38fe",
            "value": "config.json: 100%"
          }
        },
        "1801cb2735d447bfbb1363e22c2382a7": {
          "model_module": "@jupyter-widgets/controls",
          "model_name": "FloatProgressModel",
          "model_module_version": "1.5.0",
          "state": {
            "_dom_classes": [],
            "_model_module": "@jupyter-widgets/controls",
            "_model_module_version": "1.5.0",
            "_model_name": "FloatProgressModel",
            "_view_count": null,
            "_view_module": "@jupyter-widgets/controls",
            "_view_module_version": "1.5.0",
            "_view_name": "ProgressView",
            "bar_style": "success",
            "description": "",
            "description_tooltip": null,
            "layout": "IPY_MODEL_5373fc3fb18247bc9fbf90b716387f3f",
            "max": 612,
            "min": 0,
            "orientation": "horizontal",
            "style": "IPY_MODEL_25219d006a1c4d6fb4dc77ad10bc7228",
            "value": 612
          }
        },
        "1dcf15161a594f2c80b0d50aedd6944a": {
          "model_module": "@jupyter-widgets/controls",
          "model_name": "HTMLModel",
          "model_module_version": "1.5.0",
          "state": {
            "_dom_classes": [],
            "_model_module": "@jupyter-widgets/controls",
            "_model_module_version": "1.5.0",
            "_model_name": "HTMLModel",
            "_view_count": null,
            "_view_module": "@jupyter-widgets/controls",
            "_view_module_version": "1.5.0",
            "_view_name": "HTMLView",
            "description": "",
            "description_tooltip": null,
            "layout": "IPY_MODEL_fbc4c56f04474285a523c90d0ec6ae7b",
            "placeholder": "​",
            "style": "IPY_MODEL_a8a1f2b1a1c74f5db4457081df921439",
            "value": " 612/612 [00:00&lt;00:00, 12.6kB/s]"
          }
        },
        "b963fc7c0fd44fe6a0bdb96d6fb2480b": {
          "model_module": "@jupyter-widgets/base",
          "model_name": "LayoutModel",
          "model_module_version": "1.2.0",
          "state": {
            "_model_module": "@jupyter-widgets/base",
            "_model_module_version": "1.2.0",
            "_model_name": "LayoutModel",
            "_view_count": null,
            "_view_module": "@jupyter-widgets/base",
            "_view_module_version": "1.2.0",
            "_view_name": "LayoutView",
            "align_content": null,
            "align_items": null,
            "align_self": null,
            "border": null,
            "bottom": null,
            "display": null,
            "flex": null,
            "flex_flow": null,
            "grid_area": null,
            "grid_auto_columns": null,
            "grid_auto_flow": null,
            "grid_auto_rows": null,
            "grid_column": null,
            "grid_gap": null,
            "grid_row": null,
            "grid_template_areas": null,
            "grid_template_columns": null,
            "grid_template_rows": null,
            "height": null,
            "justify_content": null,
            "justify_items": null,
            "left": null,
            "margin": null,
            "max_height": null,
            "max_width": null,
            "min_height": null,
            "min_width": null,
            "object_fit": null,
            "object_position": null,
            "order": null,
            "overflow": null,
            "overflow_x": null,
            "overflow_y": null,
            "padding": null,
            "right": null,
            "top": null,
            "visibility": null,
            "width": null
          }
        },
        "41d6c3904741496c9c9c1f0d71056c21": {
          "model_module": "@jupyter-widgets/base",
          "model_name": "LayoutModel",
          "model_module_version": "1.2.0",
          "state": {
            "_model_module": "@jupyter-widgets/base",
            "_model_module_version": "1.2.0",
            "_model_name": "LayoutModel",
            "_view_count": null,
            "_view_module": "@jupyter-widgets/base",
            "_view_module_version": "1.2.0",
            "_view_name": "LayoutView",
            "align_content": null,
            "align_items": null,
            "align_self": null,
            "border": null,
            "bottom": null,
            "display": null,
            "flex": null,
            "flex_flow": null,
            "grid_area": null,
            "grid_auto_columns": null,
            "grid_auto_flow": null,
            "grid_auto_rows": null,
            "grid_column": null,
            "grid_gap": null,
            "grid_row": null,
            "grid_template_areas": null,
            "grid_template_columns": null,
            "grid_template_rows": null,
            "height": null,
            "justify_content": null,
            "justify_items": null,
            "left": null,
            "margin": null,
            "max_height": null,
            "max_width": null,
            "min_height": null,
            "min_width": null,
            "object_fit": null,
            "object_position": null,
            "order": null,
            "overflow": null,
            "overflow_x": null,
            "overflow_y": null,
            "padding": null,
            "right": null,
            "top": null,
            "visibility": null,
            "width": null
          }
        },
        "cff6011fbd5341bea059fe68bcdf38fe": {
          "model_module": "@jupyter-widgets/controls",
          "model_name": "DescriptionStyleModel",
          "model_module_version": "1.5.0",
          "state": {
            "_model_module": "@jupyter-widgets/controls",
            "_model_module_version": "1.5.0",
            "_model_name": "DescriptionStyleModel",
            "_view_count": null,
            "_view_module": "@jupyter-widgets/base",
            "_view_module_version": "1.2.0",
            "_view_name": "StyleView",
            "description_width": ""
          }
        },
        "5373fc3fb18247bc9fbf90b716387f3f": {
          "model_module": "@jupyter-widgets/base",
          "model_name": "LayoutModel",
          "model_module_version": "1.2.0",
          "state": {
            "_model_module": "@jupyter-widgets/base",
            "_model_module_version": "1.2.0",
            "_model_name": "LayoutModel",
            "_view_count": null,
            "_view_module": "@jupyter-widgets/base",
            "_view_module_version": "1.2.0",
            "_view_name": "LayoutView",
            "align_content": null,
            "align_items": null,
            "align_self": null,
            "border": null,
            "bottom": null,
            "display": null,
            "flex": null,
            "flex_flow": null,
            "grid_area": null,
            "grid_auto_columns": null,
            "grid_auto_flow": null,
            "grid_auto_rows": null,
            "grid_column": null,
            "grid_gap": null,
            "grid_row": null,
            "grid_template_areas": null,
            "grid_template_columns": null,
            "grid_template_rows": null,
            "height": null,
            "justify_content": null,
            "justify_items": null,
            "left": null,
            "margin": null,
            "max_height": null,
            "max_width": null,
            "min_height": null,
            "min_width": null,
            "object_fit": null,
            "object_position": null,
            "order": null,
            "overflow": null,
            "overflow_x": null,
            "overflow_y": null,
            "padding": null,
            "right": null,
            "top": null,
            "visibility": null,
            "width": null
          }
        },
        "25219d006a1c4d6fb4dc77ad10bc7228": {
          "model_module": "@jupyter-widgets/controls",
          "model_name": "ProgressStyleModel",
          "model_module_version": "1.5.0",
          "state": {
            "_model_module": "@jupyter-widgets/controls",
            "_model_module_version": "1.5.0",
            "_model_name": "ProgressStyleModel",
            "_view_count": null,
            "_view_module": "@jupyter-widgets/base",
            "_view_module_version": "1.2.0",
            "_view_name": "StyleView",
            "bar_color": null,
            "description_width": ""
          }
        },
        "fbc4c56f04474285a523c90d0ec6ae7b": {
          "model_module": "@jupyter-widgets/base",
          "model_name": "LayoutModel",
          "model_module_version": "1.2.0",
          "state": {
            "_model_module": "@jupyter-widgets/base",
            "_model_module_version": "1.2.0",
            "_model_name": "LayoutModel",
            "_view_count": null,
            "_view_module": "@jupyter-widgets/base",
            "_view_module_version": "1.2.0",
            "_view_name": "LayoutView",
            "align_content": null,
            "align_items": null,
            "align_self": null,
            "border": null,
            "bottom": null,
            "display": null,
            "flex": null,
            "flex_flow": null,
            "grid_area": null,
            "grid_auto_columns": null,
            "grid_auto_flow": null,
            "grid_auto_rows": null,
            "grid_column": null,
            "grid_gap": null,
            "grid_row": null,
            "grid_template_areas": null,
            "grid_template_columns": null,
            "grid_template_rows": null,
            "height": null,
            "justify_content": null,
            "justify_items": null,
            "left": null,
            "margin": null,
            "max_height": null,
            "max_width": null,
            "min_height": null,
            "min_width": null,
            "object_fit": null,
            "object_position": null,
            "order": null,
            "overflow": null,
            "overflow_x": null,
            "overflow_y": null,
            "padding": null,
            "right": null,
            "top": null,
            "visibility": null,
            "width": null
          }
        },
        "a8a1f2b1a1c74f5db4457081df921439": {
          "model_module": "@jupyter-widgets/controls",
          "model_name": "DescriptionStyleModel",
          "model_module_version": "1.5.0",
          "state": {
            "_model_module": "@jupyter-widgets/controls",
            "_model_module_version": "1.5.0",
            "_model_name": "DescriptionStyleModel",
            "_view_count": null,
            "_view_module": "@jupyter-widgets/base",
            "_view_module_version": "1.2.0",
            "_view_name": "StyleView",
            "description_width": ""
          }
        },
        "844d10ce9f1d429abe089f0c65df36ee": {
          "model_module": "@jupyter-widgets/controls",
          "model_name": "HBoxModel",
          "model_module_version": "1.5.0",
          "state": {
            "_dom_classes": [],
            "_model_module": "@jupyter-widgets/controls",
            "_model_module_version": "1.5.0",
            "_model_name": "HBoxModel",
            "_view_count": null,
            "_view_module": "@jupyter-widgets/controls",
            "_view_module_version": "1.5.0",
            "_view_name": "HBoxView",
            "box_style": "",
            "children": [
              "IPY_MODEL_301521dbd9e34441a0cc9124a335e8c8",
              "IPY_MODEL_c06535492b4c4ad58c64db4058c4d843",
              "IPY_MODEL_4e84852aa79b4d1787ae81c5c25d539e"
            ],
            "layout": "IPY_MODEL_b72e5235ef0d429cb7ea86ec0b3ee255"
          }
        },
        "301521dbd9e34441a0cc9124a335e8c8": {
          "model_module": "@jupyter-widgets/controls",
          "model_name": "HTMLModel",
          "model_module_version": "1.5.0",
          "state": {
            "_dom_classes": [],
            "_model_module": "@jupyter-widgets/controls",
            "_model_module_version": "1.5.0",
            "_model_name": "HTMLModel",
            "_view_count": null,
            "_view_module": "@jupyter-widgets/controls",
            "_view_module_version": "1.5.0",
            "_view_name": "HTMLView",
            "description": "",
            "description_tooltip": null,
            "layout": "IPY_MODEL_f6285c24835d4435b06534ebd38bd54d",
            "placeholder": "​",
            "style": "IPY_MODEL_376c5f1cd4af492783721a0acfee094a",
            "value": "model.safetensors: 100%"
          }
        },
        "c06535492b4c4ad58c64db4058c4d843": {
          "model_module": "@jupyter-widgets/controls",
          "model_name": "FloatProgressModel",
          "model_module_version": "1.5.0",
          "state": {
            "_dom_classes": [],
            "_model_module": "@jupyter-widgets/controls",
            "_model_module_version": "1.5.0",
            "_model_name": "FloatProgressModel",
            "_view_count": null,
            "_view_module": "@jupyter-widgets/controls",
            "_view_module_version": "1.5.0",
            "_view_name": "ProgressView",
            "bar_style": "success",
            "description": "",
            "description_tooltip": null,
            "layout": "IPY_MODEL_a670415ab0a24ec3a6d31e895274a129",
            "max": 90868376,
            "min": 0,
            "orientation": "horizontal",
            "style": "IPY_MODEL_4d991dedd3cf4af692338b509b90d181",
            "value": 90868376
          }
        },
        "4e84852aa79b4d1787ae81c5c25d539e": {
          "model_module": "@jupyter-widgets/controls",
          "model_name": "HTMLModel",
          "model_module_version": "1.5.0",
          "state": {
            "_dom_classes": [],
            "_model_module": "@jupyter-widgets/controls",
            "_model_module_version": "1.5.0",
            "_model_name": "HTMLModel",
            "_view_count": null,
            "_view_module": "@jupyter-widgets/controls",
            "_view_module_version": "1.5.0",
            "_view_name": "HTMLView",
            "description": "",
            "description_tooltip": null,
            "layout": "IPY_MODEL_19e083ee935944cf8e13cc36efd61bd9",
            "placeholder": "​",
            "style": "IPY_MODEL_e8ec236b37424cf3b3ff4306c7980d97",
            "value": " 90.9M/90.9M [00:01&lt;00:00, 91.6MB/s]"
          }
        },
        "b72e5235ef0d429cb7ea86ec0b3ee255": {
          "model_module": "@jupyter-widgets/base",
          "model_name": "LayoutModel",
          "model_module_version": "1.2.0",
          "state": {
            "_model_module": "@jupyter-widgets/base",
            "_model_module_version": "1.2.0",
            "_model_name": "LayoutModel",
            "_view_count": null,
            "_view_module": "@jupyter-widgets/base",
            "_view_module_version": "1.2.0",
            "_view_name": "LayoutView",
            "align_content": null,
            "align_items": null,
            "align_self": null,
            "border": null,
            "bottom": null,
            "display": null,
            "flex": null,
            "flex_flow": null,
            "grid_area": null,
            "grid_auto_columns": null,
            "grid_auto_flow": null,
            "grid_auto_rows": null,
            "grid_column": null,
            "grid_gap": null,
            "grid_row": null,
            "grid_template_areas": null,
            "grid_template_columns": null,
            "grid_template_rows": null,
            "height": null,
            "justify_content": null,
            "justify_items": null,
            "left": null,
            "margin": null,
            "max_height": null,
            "max_width": null,
            "min_height": null,
            "min_width": null,
            "object_fit": null,
            "object_position": null,
            "order": null,
            "overflow": null,
            "overflow_x": null,
            "overflow_y": null,
            "padding": null,
            "right": null,
            "top": null,
            "visibility": null,
            "width": null
          }
        },
        "f6285c24835d4435b06534ebd38bd54d": {
          "model_module": "@jupyter-widgets/base",
          "model_name": "LayoutModel",
          "model_module_version": "1.2.0",
          "state": {
            "_model_module": "@jupyter-widgets/base",
            "_model_module_version": "1.2.0",
            "_model_name": "LayoutModel",
            "_view_count": null,
            "_view_module": "@jupyter-widgets/base",
            "_view_module_version": "1.2.0",
            "_view_name": "LayoutView",
            "align_content": null,
            "align_items": null,
            "align_self": null,
            "border": null,
            "bottom": null,
            "display": null,
            "flex": null,
            "flex_flow": null,
            "grid_area": null,
            "grid_auto_columns": null,
            "grid_auto_flow": null,
            "grid_auto_rows": null,
            "grid_column": null,
            "grid_gap": null,
            "grid_row": null,
            "grid_template_areas": null,
            "grid_template_columns": null,
            "grid_template_rows": null,
            "height": null,
            "justify_content": null,
            "justify_items": null,
            "left": null,
            "margin": null,
            "max_height": null,
            "max_width": null,
            "min_height": null,
            "min_width": null,
            "object_fit": null,
            "object_position": null,
            "order": null,
            "overflow": null,
            "overflow_x": null,
            "overflow_y": null,
            "padding": null,
            "right": null,
            "top": null,
            "visibility": null,
            "width": null
          }
        },
        "376c5f1cd4af492783721a0acfee094a": {
          "model_module": "@jupyter-widgets/controls",
          "model_name": "DescriptionStyleModel",
          "model_module_version": "1.5.0",
          "state": {
            "_model_module": "@jupyter-widgets/controls",
            "_model_module_version": "1.5.0",
            "_model_name": "DescriptionStyleModel",
            "_view_count": null,
            "_view_module": "@jupyter-widgets/base",
            "_view_module_version": "1.2.0",
            "_view_name": "StyleView",
            "description_width": ""
          }
        },
        "a670415ab0a24ec3a6d31e895274a129": {
          "model_module": "@jupyter-widgets/base",
          "model_name": "LayoutModel",
          "model_module_version": "1.2.0",
          "state": {
            "_model_module": "@jupyter-widgets/base",
            "_model_module_version": "1.2.0",
            "_model_name": "LayoutModel",
            "_view_count": null,
            "_view_module": "@jupyter-widgets/base",
            "_view_module_version": "1.2.0",
            "_view_name": "LayoutView",
            "align_content": null,
            "align_items": null,
            "align_self": null,
            "border": null,
            "bottom": null,
            "display": null,
            "flex": null,
            "flex_flow": null,
            "grid_area": null,
            "grid_auto_columns": null,
            "grid_auto_flow": null,
            "grid_auto_rows": null,
            "grid_column": null,
            "grid_gap": null,
            "grid_row": null,
            "grid_template_areas": null,
            "grid_template_columns": null,
            "grid_template_rows": null,
            "height": null,
            "justify_content": null,
            "justify_items": null,
            "left": null,
            "margin": null,
            "max_height": null,
            "max_width": null,
            "min_height": null,
            "min_width": null,
            "object_fit": null,
            "object_position": null,
            "order": null,
            "overflow": null,
            "overflow_x": null,
            "overflow_y": null,
            "padding": null,
            "right": null,
            "top": null,
            "visibility": null,
            "width": null
          }
        },
        "4d991dedd3cf4af692338b509b90d181": {
          "model_module": "@jupyter-widgets/controls",
          "model_name": "ProgressStyleModel",
          "model_module_version": "1.5.0",
          "state": {
            "_model_module": "@jupyter-widgets/controls",
            "_model_module_version": "1.5.0",
            "_model_name": "ProgressStyleModel",
            "_view_count": null,
            "_view_module": "@jupyter-widgets/base",
            "_view_module_version": "1.2.0",
            "_view_name": "StyleView",
            "bar_color": null,
            "description_width": ""
          }
        },
        "19e083ee935944cf8e13cc36efd61bd9": {
          "model_module": "@jupyter-widgets/base",
          "model_name": "LayoutModel",
          "model_module_version": "1.2.0",
          "state": {
            "_model_module": "@jupyter-widgets/base",
            "_model_module_version": "1.2.0",
            "_model_name": "LayoutModel",
            "_view_count": null,
            "_view_module": "@jupyter-widgets/base",
            "_view_module_version": "1.2.0",
            "_view_name": "LayoutView",
            "align_content": null,
            "align_items": null,
            "align_self": null,
            "border": null,
            "bottom": null,
            "display": null,
            "flex": null,
            "flex_flow": null,
            "grid_area": null,
            "grid_auto_columns": null,
            "grid_auto_flow": null,
            "grid_auto_rows": null,
            "grid_column": null,
            "grid_gap": null,
            "grid_row": null,
            "grid_template_areas": null,
            "grid_template_columns": null,
            "grid_template_rows": null,
            "height": null,
            "justify_content": null,
            "justify_items": null,
            "left": null,
            "margin": null,
            "max_height": null,
            "max_width": null,
            "min_height": null,
            "min_width": null,
            "object_fit": null,
            "object_position": null,
            "order": null,
            "overflow": null,
            "overflow_x": null,
            "overflow_y": null,
            "padding": null,
            "right": null,
            "top": null,
            "visibility": null,
            "width": null
          }
        },
        "e8ec236b37424cf3b3ff4306c7980d97": {
          "model_module": "@jupyter-widgets/controls",
          "model_name": "DescriptionStyleModel",
          "model_module_version": "1.5.0",
          "state": {
            "_model_module": "@jupyter-widgets/controls",
            "_model_module_version": "1.5.0",
            "_model_name": "DescriptionStyleModel",
            "_view_count": null,
            "_view_module": "@jupyter-widgets/base",
            "_view_module_version": "1.2.0",
            "_view_name": "StyleView",
            "description_width": ""
          }
        },
        "074f51f96dbb48e49d45161dc7e0f9ce": {
          "model_module": "@jupyter-widgets/controls",
          "model_name": "HBoxModel",
          "model_module_version": "1.5.0",
          "state": {
            "_dom_classes": [],
            "_model_module": "@jupyter-widgets/controls",
            "_model_module_version": "1.5.0",
            "_model_name": "HBoxModel",
            "_view_count": null,
            "_view_module": "@jupyter-widgets/controls",
            "_view_module_version": "1.5.0",
            "_view_name": "HBoxView",
            "box_style": "",
            "children": [
              "IPY_MODEL_36a21a2325044e6b8c0bfb466c2f7533",
              "IPY_MODEL_d86f7b6cf03f45c0a03e92250a57a6d1",
              "IPY_MODEL_affbafe55f6c4f25967abfbb462fe488"
            ],
            "layout": "IPY_MODEL_22a9b947fb9c41cb97ed8c60e8a822fd"
          }
        },
        "36a21a2325044e6b8c0bfb466c2f7533": {
          "model_module": "@jupyter-widgets/controls",
          "model_name": "HTMLModel",
          "model_module_version": "1.5.0",
          "state": {
            "_dom_classes": [],
            "_model_module": "@jupyter-widgets/controls",
            "_model_module_version": "1.5.0",
            "_model_name": "HTMLModel",
            "_view_count": null,
            "_view_module": "@jupyter-widgets/controls",
            "_view_module_version": "1.5.0",
            "_view_name": "HTMLView",
            "description": "",
            "description_tooltip": null,
            "layout": "IPY_MODEL_1a8762a48f4f447cb9d7c4e2c83e2e0a",
            "placeholder": "​",
            "style": "IPY_MODEL_adb3b5fb1a824bafaf717fae9fc40e35",
            "value": "tokenizer_config.json: 100%"
          }
        },
        "d86f7b6cf03f45c0a03e92250a57a6d1": {
          "model_module": "@jupyter-widgets/controls",
          "model_name": "FloatProgressModel",
          "model_module_version": "1.5.0",
          "state": {
            "_dom_classes": [],
            "_model_module": "@jupyter-widgets/controls",
            "_model_module_version": "1.5.0",
            "_model_name": "FloatProgressModel",
            "_view_count": null,
            "_view_module": "@jupyter-widgets/controls",
            "_view_module_version": "1.5.0",
            "_view_name": "ProgressView",
            "bar_style": "success",
            "description": "",
            "description_tooltip": null,
            "layout": "IPY_MODEL_16b72f359b4443f588f83a70591cefb8",
            "max": 350,
            "min": 0,
            "orientation": "horizontal",
            "style": "IPY_MODEL_bcdcf9a4bab644c8906c2a610e6fba5a",
            "value": 350
          }
        },
        "affbafe55f6c4f25967abfbb462fe488": {
          "model_module": "@jupyter-widgets/controls",
          "model_name": "HTMLModel",
          "model_module_version": "1.5.0",
          "state": {
            "_dom_classes": [],
            "_model_module": "@jupyter-widgets/controls",
            "_model_module_version": "1.5.0",
            "_model_name": "HTMLModel",
            "_view_count": null,
            "_view_module": "@jupyter-widgets/controls",
            "_view_module_version": "1.5.0",
            "_view_name": "HTMLView",
            "description": "",
            "description_tooltip": null,
            "layout": "IPY_MODEL_004cac2699044947ae436356812d8d9f",
            "placeholder": "​",
            "style": "IPY_MODEL_cc9de7f5ca31453f8c30a37bfc45f97f",
            "value": " 350/350 [00:00&lt;00:00, 7.57kB/s]"
          }
        },
        "22a9b947fb9c41cb97ed8c60e8a822fd": {
          "model_module": "@jupyter-widgets/base",
          "model_name": "LayoutModel",
          "model_module_version": "1.2.0",
          "state": {
            "_model_module": "@jupyter-widgets/base",
            "_model_module_version": "1.2.0",
            "_model_name": "LayoutModel",
            "_view_count": null,
            "_view_module": "@jupyter-widgets/base",
            "_view_module_version": "1.2.0",
            "_view_name": "LayoutView",
            "align_content": null,
            "align_items": null,
            "align_self": null,
            "border": null,
            "bottom": null,
            "display": null,
            "flex": null,
            "flex_flow": null,
            "grid_area": null,
            "grid_auto_columns": null,
            "grid_auto_flow": null,
            "grid_auto_rows": null,
            "grid_column": null,
            "grid_gap": null,
            "grid_row": null,
            "grid_template_areas": null,
            "grid_template_columns": null,
            "grid_template_rows": null,
            "height": null,
            "justify_content": null,
            "justify_items": null,
            "left": null,
            "margin": null,
            "max_height": null,
            "max_width": null,
            "min_height": null,
            "min_width": null,
            "object_fit": null,
            "object_position": null,
            "order": null,
            "overflow": null,
            "overflow_x": null,
            "overflow_y": null,
            "padding": null,
            "right": null,
            "top": null,
            "visibility": null,
            "width": null
          }
        },
        "1a8762a48f4f447cb9d7c4e2c83e2e0a": {
          "model_module": "@jupyter-widgets/base",
          "model_name": "LayoutModel",
          "model_module_version": "1.2.0",
          "state": {
            "_model_module": "@jupyter-widgets/base",
            "_model_module_version": "1.2.0",
            "_model_name": "LayoutModel",
            "_view_count": null,
            "_view_module": "@jupyter-widgets/base",
            "_view_module_version": "1.2.0",
            "_view_name": "LayoutView",
            "align_content": null,
            "align_items": null,
            "align_self": null,
            "border": null,
            "bottom": null,
            "display": null,
            "flex": null,
            "flex_flow": null,
            "grid_area": null,
            "grid_auto_columns": null,
            "grid_auto_flow": null,
            "grid_auto_rows": null,
            "grid_column": null,
            "grid_gap": null,
            "grid_row": null,
            "grid_template_areas": null,
            "grid_template_columns": null,
            "grid_template_rows": null,
            "height": null,
            "justify_content": null,
            "justify_items": null,
            "left": null,
            "margin": null,
            "max_height": null,
            "max_width": null,
            "min_height": null,
            "min_width": null,
            "object_fit": null,
            "object_position": null,
            "order": null,
            "overflow": null,
            "overflow_x": null,
            "overflow_y": null,
            "padding": null,
            "right": null,
            "top": null,
            "visibility": null,
            "width": null
          }
        },
        "adb3b5fb1a824bafaf717fae9fc40e35": {
          "model_module": "@jupyter-widgets/controls",
          "model_name": "DescriptionStyleModel",
          "model_module_version": "1.5.0",
          "state": {
            "_model_module": "@jupyter-widgets/controls",
            "_model_module_version": "1.5.0",
            "_model_name": "DescriptionStyleModel",
            "_view_count": null,
            "_view_module": "@jupyter-widgets/base",
            "_view_module_version": "1.2.0",
            "_view_name": "StyleView",
            "description_width": ""
          }
        },
        "16b72f359b4443f588f83a70591cefb8": {
          "model_module": "@jupyter-widgets/base",
          "model_name": "LayoutModel",
          "model_module_version": "1.2.0",
          "state": {
            "_model_module": "@jupyter-widgets/base",
            "_model_module_version": "1.2.0",
            "_model_name": "LayoutModel",
            "_view_count": null,
            "_view_module": "@jupyter-widgets/base",
            "_view_module_version": "1.2.0",
            "_view_name": "LayoutView",
            "align_content": null,
            "align_items": null,
            "align_self": null,
            "border": null,
            "bottom": null,
            "display": null,
            "flex": null,
            "flex_flow": null,
            "grid_area": null,
            "grid_auto_columns": null,
            "grid_auto_flow": null,
            "grid_auto_rows": null,
            "grid_column": null,
            "grid_gap": null,
            "grid_row": null,
            "grid_template_areas": null,
            "grid_template_columns": null,
            "grid_template_rows": null,
            "height": null,
            "justify_content": null,
            "justify_items": null,
            "left": null,
            "margin": null,
            "max_height": null,
            "max_width": null,
            "min_height": null,
            "min_width": null,
            "object_fit": null,
            "object_position": null,
            "order": null,
            "overflow": null,
            "overflow_x": null,
            "overflow_y": null,
            "padding": null,
            "right": null,
            "top": null,
            "visibility": null,
            "width": null
          }
        },
        "bcdcf9a4bab644c8906c2a610e6fba5a": {
          "model_module": "@jupyter-widgets/controls",
          "model_name": "ProgressStyleModel",
          "model_module_version": "1.5.0",
          "state": {
            "_model_module": "@jupyter-widgets/controls",
            "_model_module_version": "1.5.0",
            "_model_name": "ProgressStyleModel",
            "_view_count": null,
            "_view_module": "@jupyter-widgets/base",
            "_view_module_version": "1.2.0",
            "_view_name": "StyleView",
            "bar_color": null,
            "description_width": ""
          }
        },
        "004cac2699044947ae436356812d8d9f": {
          "model_module": "@jupyter-widgets/base",
          "model_name": "LayoutModel",
          "model_module_version": "1.2.0",
          "state": {
            "_model_module": "@jupyter-widgets/base",
            "_model_module_version": "1.2.0",
            "_model_name": "LayoutModel",
            "_view_count": null,
            "_view_module": "@jupyter-widgets/base",
            "_view_module_version": "1.2.0",
            "_view_name": "LayoutView",
            "align_content": null,
            "align_items": null,
            "align_self": null,
            "border": null,
            "bottom": null,
            "display": null,
            "flex": null,
            "flex_flow": null,
            "grid_area": null,
            "grid_auto_columns": null,
            "grid_auto_flow": null,
            "grid_auto_rows": null,
            "grid_column": null,
            "grid_gap": null,
            "grid_row": null,
            "grid_template_areas": null,
            "grid_template_columns": null,
            "grid_template_rows": null,
            "height": null,
            "justify_content": null,
            "justify_items": null,
            "left": null,
            "margin": null,
            "max_height": null,
            "max_width": null,
            "min_height": null,
            "min_width": null,
            "object_fit": null,
            "object_position": null,
            "order": null,
            "overflow": null,
            "overflow_x": null,
            "overflow_y": null,
            "padding": null,
            "right": null,
            "top": null,
            "visibility": null,
            "width": null
          }
        },
        "cc9de7f5ca31453f8c30a37bfc45f97f": {
          "model_module": "@jupyter-widgets/controls",
          "model_name": "DescriptionStyleModel",
          "model_module_version": "1.5.0",
          "state": {
            "_model_module": "@jupyter-widgets/controls",
            "_model_module_version": "1.5.0",
            "_model_name": "DescriptionStyleModel",
            "_view_count": null,
            "_view_module": "@jupyter-widgets/base",
            "_view_module_version": "1.2.0",
            "_view_name": "StyleView",
            "description_width": ""
          }
        },
        "13147eb5ecf144ce8962b404123407b6": {
          "model_module": "@jupyter-widgets/controls",
          "model_name": "HBoxModel",
          "model_module_version": "1.5.0",
          "state": {
            "_dom_classes": [],
            "_model_module": "@jupyter-widgets/controls",
            "_model_module_version": "1.5.0",
            "_model_name": "HBoxModel",
            "_view_count": null,
            "_view_module": "@jupyter-widgets/controls",
            "_view_module_version": "1.5.0",
            "_view_name": "HBoxView",
            "box_style": "",
            "children": [
              "IPY_MODEL_b22c3ecc8752406f8f0bc866230de91b",
              "IPY_MODEL_8025c89dcc82486aac0bfa15d11ec7c4",
              "IPY_MODEL_d8ef57a97dfc48c69c909ec283c2d8e9"
            ],
            "layout": "IPY_MODEL_e4f581f02a8042488425ce495a8e9e97"
          }
        },
        "b22c3ecc8752406f8f0bc866230de91b": {
          "model_module": "@jupyter-widgets/controls",
          "model_name": "HTMLModel",
          "model_module_version": "1.5.0",
          "state": {
            "_dom_classes": [],
            "_model_module": "@jupyter-widgets/controls",
            "_model_module_version": "1.5.0",
            "_model_name": "HTMLModel",
            "_view_count": null,
            "_view_module": "@jupyter-widgets/controls",
            "_view_module_version": "1.5.0",
            "_view_name": "HTMLView",
            "description": "",
            "description_tooltip": null,
            "layout": "IPY_MODEL_794746805be744a78ce4334d771fa886",
            "placeholder": "​",
            "style": "IPY_MODEL_6831c5b015914e0495c80f59645aac2e",
            "value": "vocab.txt: 100%"
          }
        },
        "8025c89dcc82486aac0bfa15d11ec7c4": {
          "model_module": "@jupyter-widgets/controls",
          "model_name": "FloatProgressModel",
          "model_module_version": "1.5.0",
          "state": {
            "_dom_classes": [],
            "_model_module": "@jupyter-widgets/controls",
            "_model_module_version": "1.5.0",
            "_model_name": "FloatProgressModel",
            "_view_count": null,
            "_view_module": "@jupyter-widgets/controls",
            "_view_module_version": "1.5.0",
            "_view_name": "ProgressView",
            "bar_style": "success",
            "description": "",
            "description_tooltip": null,
            "layout": "IPY_MODEL_ca74bfdc74d74f27870df34400ce6fff",
            "max": 231508,
            "min": 0,
            "orientation": "horizontal",
            "style": "IPY_MODEL_b5a325e328a2453488005bafe508ba01",
            "value": 231508
          }
        },
        "d8ef57a97dfc48c69c909ec283c2d8e9": {
          "model_module": "@jupyter-widgets/controls",
          "model_name": "HTMLModel",
          "model_module_version": "1.5.0",
          "state": {
            "_dom_classes": [],
            "_model_module": "@jupyter-widgets/controls",
            "_model_module_version": "1.5.0",
            "_model_name": "HTMLModel",
            "_view_count": null,
            "_view_module": "@jupyter-widgets/controls",
            "_view_module_version": "1.5.0",
            "_view_name": "HTMLView",
            "description": "",
            "description_tooltip": null,
            "layout": "IPY_MODEL_30fff48fc18348e6b9ce0caf2cf1e0ae",
            "placeholder": "​",
            "style": "IPY_MODEL_4f19853abfa04f0d91e37865301a55e2",
            "value": " 232k/232k [00:00&lt;00:00, 2.10MB/s]"
          }
        },
        "e4f581f02a8042488425ce495a8e9e97": {
          "model_module": "@jupyter-widgets/base",
          "model_name": "LayoutModel",
          "model_module_version": "1.2.0",
          "state": {
            "_model_module": "@jupyter-widgets/base",
            "_model_module_version": "1.2.0",
            "_model_name": "LayoutModel",
            "_view_count": null,
            "_view_module": "@jupyter-widgets/base",
            "_view_module_version": "1.2.0",
            "_view_name": "LayoutView",
            "align_content": null,
            "align_items": null,
            "align_self": null,
            "border": null,
            "bottom": null,
            "display": null,
            "flex": null,
            "flex_flow": null,
            "grid_area": null,
            "grid_auto_columns": null,
            "grid_auto_flow": null,
            "grid_auto_rows": null,
            "grid_column": null,
            "grid_gap": null,
            "grid_row": null,
            "grid_template_areas": null,
            "grid_template_columns": null,
            "grid_template_rows": null,
            "height": null,
            "justify_content": null,
            "justify_items": null,
            "left": null,
            "margin": null,
            "max_height": null,
            "max_width": null,
            "min_height": null,
            "min_width": null,
            "object_fit": null,
            "object_position": null,
            "order": null,
            "overflow": null,
            "overflow_x": null,
            "overflow_y": null,
            "padding": null,
            "right": null,
            "top": null,
            "visibility": null,
            "width": null
          }
        },
        "794746805be744a78ce4334d771fa886": {
          "model_module": "@jupyter-widgets/base",
          "model_name": "LayoutModel",
          "model_module_version": "1.2.0",
          "state": {
            "_model_module": "@jupyter-widgets/base",
            "_model_module_version": "1.2.0",
            "_model_name": "LayoutModel",
            "_view_count": null,
            "_view_module": "@jupyter-widgets/base",
            "_view_module_version": "1.2.0",
            "_view_name": "LayoutView",
            "align_content": null,
            "align_items": null,
            "align_self": null,
            "border": null,
            "bottom": null,
            "display": null,
            "flex": null,
            "flex_flow": null,
            "grid_area": null,
            "grid_auto_columns": null,
            "grid_auto_flow": null,
            "grid_auto_rows": null,
            "grid_column": null,
            "grid_gap": null,
            "grid_row": null,
            "grid_template_areas": null,
            "grid_template_columns": null,
            "grid_template_rows": null,
            "height": null,
            "justify_content": null,
            "justify_items": null,
            "left": null,
            "margin": null,
            "max_height": null,
            "max_width": null,
            "min_height": null,
            "min_width": null,
            "object_fit": null,
            "object_position": null,
            "order": null,
            "overflow": null,
            "overflow_x": null,
            "overflow_y": null,
            "padding": null,
            "right": null,
            "top": null,
            "visibility": null,
            "width": null
          }
        },
        "6831c5b015914e0495c80f59645aac2e": {
          "model_module": "@jupyter-widgets/controls",
          "model_name": "DescriptionStyleModel",
          "model_module_version": "1.5.0",
          "state": {
            "_model_module": "@jupyter-widgets/controls",
            "_model_module_version": "1.5.0",
            "_model_name": "DescriptionStyleModel",
            "_view_count": null,
            "_view_module": "@jupyter-widgets/base",
            "_view_module_version": "1.2.0",
            "_view_name": "StyleView",
            "description_width": ""
          }
        },
        "ca74bfdc74d74f27870df34400ce6fff": {
          "model_module": "@jupyter-widgets/base",
          "model_name": "LayoutModel",
          "model_module_version": "1.2.0",
          "state": {
            "_model_module": "@jupyter-widgets/base",
            "_model_module_version": "1.2.0",
            "_model_name": "LayoutModel",
            "_view_count": null,
            "_view_module": "@jupyter-widgets/base",
            "_view_module_version": "1.2.0",
            "_view_name": "LayoutView",
            "align_content": null,
            "align_items": null,
            "align_self": null,
            "border": null,
            "bottom": null,
            "display": null,
            "flex": null,
            "flex_flow": null,
            "grid_area": null,
            "grid_auto_columns": null,
            "grid_auto_flow": null,
            "grid_auto_rows": null,
            "grid_column": null,
            "grid_gap": null,
            "grid_row": null,
            "grid_template_areas": null,
            "grid_template_columns": null,
            "grid_template_rows": null,
            "height": null,
            "justify_content": null,
            "justify_items": null,
            "left": null,
            "margin": null,
            "max_height": null,
            "max_width": null,
            "min_height": null,
            "min_width": null,
            "object_fit": null,
            "object_position": null,
            "order": null,
            "overflow": null,
            "overflow_x": null,
            "overflow_y": null,
            "padding": null,
            "right": null,
            "top": null,
            "visibility": null,
            "width": null
          }
        },
        "b5a325e328a2453488005bafe508ba01": {
          "model_module": "@jupyter-widgets/controls",
          "model_name": "ProgressStyleModel",
          "model_module_version": "1.5.0",
          "state": {
            "_model_module": "@jupyter-widgets/controls",
            "_model_module_version": "1.5.0",
            "_model_name": "ProgressStyleModel",
            "_view_count": null,
            "_view_module": "@jupyter-widgets/base",
            "_view_module_version": "1.2.0",
            "_view_name": "StyleView",
            "bar_color": null,
            "description_width": ""
          }
        },
        "30fff48fc18348e6b9ce0caf2cf1e0ae": {
          "model_module": "@jupyter-widgets/base",
          "model_name": "LayoutModel",
          "model_module_version": "1.2.0",
          "state": {
            "_model_module": "@jupyter-widgets/base",
            "_model_module_version": "1.2.0",
            "_model_name": "LayoutModel",
            "_view_count": null,
            "_view_module": "@jupyter-widgets/base",
            "_view_module_version": "1.2.0",
            "_view_name": "LayoutView",
            "align_content": null,
            "align_items": null,
            "align_self": null,
            "border": null,
            "bottom": null,
            "display": null,
            "flex": null,
            "flex_flow": null,
            "grid_area": null,
            "grid_auto_columns": null,
            "grid_auto_flow": null,
            "grid_auto_rows": null,
            "grid_column": null,
            "grid_gap": null,
            "grid_row": null,
            "grid_template_areas": null,
            "grid_template_columns": null,
            "grid_template_rows": null,
            "height": null,
            "justify_content": null,
            "justify_items": null,
            "left": null,
            "margin": null,
            "max_height": null,
            "max_width": null,
            "min_height": null,
            "min_width": null,
            "object_fit": null,
            "object_position": null,
            "order": null,
            "overflow": null,
            "overflow_x": null,
            "overflow_y": null,
            "padding": null,
            "right": null,
            "top": null,
            "visibility": null,
            "width": null
          }
        },
        "4f19853abfa04f0d91e37865301a55e2": {
          "model_module": "@jupyter-widgets/controls",
          "model_name": "DescriptionStyleModel",
          "model_module_version": "1.5.0",
          "state": {
            "_model_module": "@jupyter-widgets/controls",
            "_model_module_version": "1.5.0",
            "_model_name": "DescriptionStyleModel",
            "_view_count": null,
            "_view_module": "@jupyter-widgets/base",
            "_view_module_version": "1.2.0",
            "_view_name": "StyleView",
            "description_width": ""
          }
        },
        "dd2b834f8da345d5a3229d1c7ab738a7": {
          "model_module": "@jupyter-widgets/controls",
          "model_name": "HBoxModel",
          "model_module_version": "1.5.0",
          "state": {
            "_dom_classes": [],
            "_model_module": "@jupyter-widgets/controls",
            "_model_module_version": "1.5.0",
            "_model_name": "HBoxModel",
            "_view_count": null,
            "_view_module": "@jupyter-widgets/controls",
            "_view_module_version": "1.5.0",
            "_view_name": "HBoxView",
            "box_style": "",
            "children": [
              "IPY_MODEL_d53cc7e40962400099ee225bd7d83db9",
              "IPY_MODEL_e9116d3dc7e64600a8705e624530b97e",
              "IPY_MODEL_96b34197bb3b4424a96a42cb6ed30662"
            ],
            "layout": "IPY_MODEL_8969fd2fa805447e8218f15eb55b14b9"
          }
        },
        "d53cc7e40962400099ee225bd7d83db9": {
          "model_module": "@jupyter-widgets/controls",
          "model_name": "HTMLModel",
          "model_module_version": "1.5.0",
          "state": {
            "_dom_classes": [],
            "_model_module": "@jupyter-widgets/controls",
            "_model_module_version": "1.5.0",
            "_model_name": "HTMLModel",
            "_view_count": null,
            "_view_module": "@jupyter-widgets/controls",
            "_view_module_version": "1.5.0",
            "_view_name": "HTMLView",
            "description": "",
            "description_tooltip": null,
            "layout": "IPY_MODEL_5eb556a374a24f7fa8c729e2587003e6",
            "placeholder": "​",
            "style": "IPY_MODEL_8937dc1317bc4d7f97d7512eb7696867",
            "value": "tokenizer.json: 100%"
          }
        },
        "e9116d3dc7e64600a8705e624530b97e": {
          "model_module": "@jupyter-widgets/controls",
          "model_name": "FloatProgressModel",
          "model_module_version": "1.5.0",
          "state": {
            "_dom_classes": [],
            "_model_module": "@jupyter-widgets/controls",
            "_model_module_version": "1.5.0",
            "_model_name": "FloatProgressModel",
            "_view_count": null,
            "_view_module": "@jupyter-widgets/controls",
            "_view_module_version": "1.5.0",
            "_view_name": "ProgressView",
            "bar_style": "success",
            "description": "",
            "description_tooltip": null,
            "layout": "IPY_MODEL_7cb36c38f8c74dabb372af58785d798b",
            "max": 466247,
            "min": 0,
            "orientation": "horizontal",
            "style": "IPY_MODEL_393b259b4e7a4a8bb8324859244196c6",
            "value": 466247
          }
        },
        "96b34197bb3b4424a96a42cb6ed30662": {
          "model_module": "@jupyter-widgets/controls",
          "model_name": "HTMLModel",
          "model_module_version": "1.5.0",
          "state": {
            "_dom_classes": [],
            "_model_module": "@jupyter-widgets/controls",
            "_model_module_version": "1.5.0",
            "_model_name": "HTMLModel",
            "_view_count": null,
            "_view_module": "@jupyter-widgets/controls",
            "_view_module_version": "1.5.0",
            "_view_name": "HTMLView",
            "description": "",
            "description_tooltip": null,
            "layout": "IPY_MODEL_1331006a04c943e4acdea17dc5747321",
            "placeholder": "​",
            "style": "IPY_MODEL_506bca8d47f04d51b6518c49ebbb2310",
            "value": " 466k/466k [00:00&lt;00:00, 5.05MB/s]"
          }
        },
        "8969fd2fa805447e8218f15eb55b14b9": {
          "model_module": "@jupyter-widgets/base",
          "model_name": "LayoutModel",
          "model_module_version": "1.2.0",
          "state": {
            "_model_module": "@jupyter-widgets/base",
            "_model_module_version": "1.2.0",
            "_model_name": "LayoutModel",
            "_view_count": null,
            "_view_module": "@jupyter-widgets/base",
            "_view_module_version": "1.2.0",
            "_view_name": "LayoutView",
            "align_content": null,
            "align_items": null,
            "align_self": null,
            "border": null,
            "bottom": null,
            "display": null,
            "flex": null,
            "flex_flow": null,
            "grid_area": null,
            "grid_auto_columns": null,
            "grid_auto_flow": null,
            "grid_auto_rows": null,
            "grid_column": null,
            "grid_gap": null,
            "grid_row": null,
            "grid_template_areas": null,
            "grid_template_columns": null,
            "grid_template_rows": null,
            "height": null,
            "justify_content": null,
            "justify_items": null,
            "left": null,
            "margin": null,
            "max_height": null,
            "max_width": null,
            "min_height": null,
            "min_width": null,
            "object_fit": null,
            "object_position": null,
            "order": null,
            "overflow": null,
            "overflow_x": null,
            "overflow_y": null,
            "padding": null,
            "right": null,
            "top": null,
            "visibility": null,
            "width": null
          }
        },
        "5eb556a374a24f7fa8c729e2587003e6": {
          "model_module": "@jupyter-widgets/base",
          "model_name": "LayoutModel",
          "model_module_version": "1.2.0",
          "state": {
            "_model_module": "@jupyter-widgets/base",
            "_model_module_version": "1.2.0",
            "_model_name": "LayoutModel",
            "_view_count": null,
            "_view_module": "@jupyter-widgets/base",
            "_view_module_version": "1.2.0",
            "_view_name": "LayoutView",
            "align_content": null,
            "align_items": null,
            "align_self": null,
            "border": null,
            "bottom": null,
            "display": null,
            "flex": null,
            "flex_flow": null,
            "grid_area": null,
            "grid_auto_columns": null,
            "grid_auto_flow": null,
            "grid_auto_rows": null,
            "grid_column": null,
            "grid_gap": null,
            "grid_row": null,
            "grid_template_areas": null,
            "grid_template_columns": null,
            "grid_template_rows": null,
            "height": null,
            "justify_content": null,
            "justify_items": null,
            "left": null,
            "margin": null,
            "max_height": null,
            "max_width": null,
            "min_height": null,
            "min_width": null,
            "object_fit": null,
            "object_position": null,
            "order": null,
            "overflow": null,
            "overflow_x": null,
            "overflow_y": null,
            "padding": null,
            "right": null,
            "top": null,
            "visibility": null,
            "width": null
          }
        },
        "8937dc1317bc4d7f97d7512eb7696867": {
          "model_module": "@jupyter-widgets/controls",
          "model_name": "DescriptionStyleModel",
          "model_module_version": "1.5.0",
          "state": {
            "_model_module": "@jupyter-widgets/controls",
            "_model_module_version": "1.5.0",
            "_model_name": "DescriptionStyleModel",
            "_view_count": null,
            "_view_module": "@jupyter-widgets/base",
            "_view_module_version": "1.2.0",
            "_view_name": "StyleView",
            "description_width": ""
          }
        },
        "7cb36c38f8c74dabb372af58785d798b": {
          "model_module": "@jupyter-widgets/base",
          "model_name": "LayoutModel",
          "model_module_version": "1.2.0",
          "state": {
            "_model_module": "@jupyter-widgets/base",
            "_model_module_version": "1.2.0",
            "_model_name": "LayoutModel",
            "_view_count": null,
            "_view_module": "@jupyter-widgets/base",
            "_view_module_version": "1.2.0",
            "_view_name": "LayoutView",
            "align_content": null,
            "align_items": null,
            "align_self": null,
            "border": null,
            "bottom": null,
            "display": null,
            "flex": null,
            "flex_flow": null,
            "grid_area": null,
            "grid_auto_columns": null,
            "grid_auto_flow": null,
            "grid_auto_rows": null,
            "grid_column": null,
            "grid_gap": null,
            "grid_row": null,
            "grid_template_areas": null,
            "grid_template_columns": null,
            "grid_template_rows": null,
            "height": null,
            "justify_content": null,
            "justify_items": null,
            "left": null,
            "margin": null,
            "max_height": null,
            "max_width": null,
            "min_height": null,
            "min_width": null,
            "object_fit": null,
            "object_position": null,
            "order": null,
            "overflow": null,
            "overflow_x": null,
            "overflow_y": null,
            "padding": null,
            "right": null,
            "top": null,
            "visibility": null,
            "width": null
          }
        },
        "393b259b4e7a4a8bb8324859244196c6": {
          "model_module": "@jupyter-widgets/controls",
          "model_name": "ProgressStyleModel",
          "model_module_version": "1.5.0",
          "state": {
            "_model_module": "@jupyter-widgets/controls",
            "_model_module_version": "1.5.0",
            "_model_name": "ProgressStyleModel",
            "_view_count": null,
            "_view_module": "@jupyter-widgets/base",
            "_view_module_version": "1.2.0",
            "_view_name": "StyleView",
            "bar_color": null,
            "description_width": ""
          }
        },
        "1331006a04c943e4acdea17dc5747321": {
          "model_module": "@jupyter-widgets/base",
          "model_name": "LayoutModel",
          "model_module_version": "1.2.0",
          "state": {
            "_model_module": "@jupyter-widgets/base",
            "_model_module_version": "1.2.0",
            "_model_name": "LayoutModel",
            "_view_count": null,
            "_view_module": "@jupyter-widgets/base",
            "_view_module_version": "1.2.0",
            "_view_name": "LayoutView",
            "align_content": null,
            "align_items": null,
            "align_self": null,
            "border": null,
            "bottom": null,
            "display": null,
            "flex": null,
            "flex_flow": null,
            "grid_area": null,
            "grid_auto_columns": null,
            "grid_auto_flow": null,
            "grid_auto_rows": null,
            "grid_column": null,
            "grid_gap": null,
            "grid_row": null,
            "grid_template_areas": null,
            "grid_template_columns": null,
            "grid_template_rows": null,
            "height": null,
            "justify_content": null,
            "justify_items": null,
            "left": null,
            "margin": null,
            "max_height": null,
            "max_width": null,
            "min_height": null,
            "min_width": null,
            "object_fit": null,
            "object_position": null,
            "order": null,
            "overflow": null,
            "overflow_x": null,
            "overflow_y": null,
            "padding": null,
            "right": null,
            "top": null,
            "visibility": null,
            "width": null
          }
        },
        "506bca8d47f04d51b6518c49ebbb2310": {
          "model_module": "@jupyter-widgets/controls",
          "model_name": "DescriptionStyleModel",
          "model_module_version": "1.5.0",
          "state": {
            "_model_module": "@jupyter-widgets/controls",
            "_model_module_version": "1.5.0",
            "_model_name": "DescriptionStyleModel",
            "_view_count": null,
            "_view_module": "@jupyter-widgets/base",
            "_view_module_version": "1.2.0",
            "_view_name": "StyleView",
            "description_width": ""
          }
        },
        "fe1ea92e26c84173a4ba176a7d0df138": {
          "model_module": "@jupyter-widgets/controls",
          "model_name": "HBoxModel",
          "model_module_version": "1.5.0",
          "state": {
            "_dom_classes": [],
            "_model_module": "@jupyter-widgets/controls",
            "_model_module_version": "1.5.0",
            "_model_name": "HBoxModel",
            "_view_count": null,
            "_view_module": "@jupyter-widgets/controls",
            "_view_module_version": "1.5.0",
            "_view_name": "HBoxView",
            "box_style": "",
            "children": [
              "IPY_MODEL_5e167694a5fe444296c7be59057a206a",
              "IPY_MODEL_f7278bd27c8448e9aa981c1a3176a5a1",
              "IPY_MODEL_0a4f21e131064c17b30e57099de4c9b1"
            ],
            "layout": "IPY_MODEL_3c34d879ffd24f00890895c97fd16d34"
          }
        },
        "5e167694a5fe444296c7be59057a206a": {
          "model_module": "@jupyter-widgets/controls",
          "model_name": "HTMLModel",
          "model_module_version": "1.5.0",
          "state": {
            "_dom_classes": [],
            "_model_module": "@jupyter-widgets/controls",
            "_model_module_version": "1.5.0",
            "_model_name": "HTMLModel",
            "_view_count": null,
            "_view_module": "@jupyter-widgets/controls",
            "_view_module_version": "1.5.0",
            "_view_name": "HTMLView",
            "description": "",
            "description_tooltip": null,
            "layout": "IPY_MODEL_eddaa8818bf84b2fadcdc839b1d73c6d",
            "placeholder": "​",
            "style": "IPY_MODEL_49098cd175d94230b835180bf0a62307",
            "value": "special_tokens_map.json: 100%"
          }
        },
        "f7278bd27c8448e9aa981c1a3176a5a1": {
          "model_module": "@jupyter-widgets/controls",
          "model_name": "FloatProgressModel",
          "model_module_version": "1.5.0",
          "state": {
            "_dom_classes": [],
            "_model_module": "@jupyter-widgets/controls",
            "_model_module_version": "1.5.0",
            "_model_name": "FloatProgressModel",
            "_view_count": null,
            "_view_module": "@jupyter-widgets/controls",
            "_view_module_version": "1.5.0",
            "_view_name": "ProgressView",
            "bar_style": "success",
            "description": "",
            "description_tooltip": null,
            "layout": "IPY_MODEL_678b3014134a4e5392eb3dc37f545ca0",
            "max": 112,
            "min": 0,
            "orientation": "horizontal",
            "style": "IPY_MODEL_a3c9cd8b83e54c1a810b82a876fb03cc",
            "value": 112
          }
        },
        "0a4f21e131064c17b30e57099de4c9b1": {
          "model_module": "@jupyter-widgets/controls",
          "model_name": "HTMLModel",
          "model_module_version": "1.5.0",
          "state": {
            "_dom_classes": [],
            "_model_module": "@jupyter-widgets/controls",
            "_model_module_version": "1.5.0",
            "_model_name": "HTMLModel",
            "_view_count": null,
            "_view_module": "@jupyter-widgets/controls",
            "_view_module_version": "1.5.0",
            "_view_name": "HTMLView",
            "description": "",
            "description_tooltip": null,
            "layout": "IPY_MODEL_fd9ffd0acb4f41a8a48386963af4e1ae",
            "placeholder": "​",
            "style": "IPY_MODEL_86b41ce942c5499fbd2815d40496fe2d",
            "value": " 112/112 [00:00&lt;00:00, 1.77kB/s]"
          }
        },
        "3c34d879ffd24f00890895c97fd16d34": {
          "model_module": "@jupyter-widgets/base",
          "model_name": "LayoutModel",
          "model_module_version": "1.2.0",
          "state": {
            "_model_module": "@jupyter-widgets/base",
            "_model_module_version": "1.2.0",
            "_model_name": "LayoutModel",
            "_view_count": null,
            "_view_module": "@jupyter-widgets/base",
            "_view_module_version": "1.2.0",
            "_view_name": "LayoutView",
            "align_content": null,
            "align_items": null,
            "align_self": null,
            "border": null,
            "bottom": null,
            "display": null,
            "flex": null,
            "flex_flow": null,
            "grid_area": null,
            "grid_auto_columns": null,
            "grid_auto_flow": null,
            "grid_auto_rows": null,
            "grid_column": null,
            "grid_gap": null,
            "grid_row": null,
            "grid_template_areas": null,
            "grid_template_columns": null,
            "grid_template_rows": null,
            "height": null,
            "justify_content": null,
            "justify_items": null,
            "left": null,
            "margin": null,
            "max_height": null,
            "max_width": null,
            "min_height": null,
            "min_width": null,
            "object_fit": null,
            "object_position": null,
            "order": null,
            "overflow": null,
            "overflow_x": null,
            "overflow_y": null,
            "padding": null,
            "right": null,
            "top": null,
            "visibility": null,
            "width": null
          }
        },
        "eddaa8818bf84b2fadcdc839b1d73c6d": {
          "model_module": "@jupyter-widgets/base",
          "model_name": "LayoutModel",
          "model_module_version": "1.2.0",
          "state": {
            "_model_module": "@jupyter-widgets/base",
            "_model_module_version": "1.2.0",
            "_model_name": "LayoutModel",
            "_view_count": null,
            "_view_module": "@jupyter-widgets/base",
            "_view_module_version": "1.2.0",
            "_view_name": "LayoutView",
            "align_content": null,
            "align_items": null,
            "align_self": null,
            "border": null,
            "bottom": null,
            "display": null,
            "flex": null,
            "flex_flow": null,
            "grid_area": null,
            "grid_auto_columns": null,
            "grid_auto_flow": null,
            "grid_auto_rows": null,
            "grid_column": null,
            "grid_gap": null,
            "grid_row": null,
            "grid_template_areas": null,
            "grid_template_columns": null,
            "grid_template_rows": null,
            "height": null,
            "justify_content": null,
            "justify_items": null,
            "left": null,
            "margin": null,
            "max_height": null,
            "max_width": null,
            "min_height": null,
            "min_width": null,
            "object_fit": null,
            "object_position": null,
            "order": null,
            "overflow": null,
            "overflow_x": null,
            "overflow_y": null,
            "padding": null,
            "right": null,
            "top": null,
            "visibility": null,
            "width": null
          }
        },
        "49098cd175d94230b835180bf0a62307": {
          "model_module": "@jupyter-widgets/controls",
          "model_name": "DescriptionStyleModel",
          "model_module_version": "1.5.0",
          "state": {
            "_model_module": "@jupyter-widgets/controls",
            "_model_module_version": "1.5.0",
            "_model_name": "DescriptionStyleModel",
            "_view_count": null,
            "_view_module": "@jupyter-widgets/base",
            "_view_module_version": "1.2.0",
            "_view_name": "StyleView",
            "description_width": ""
          }
        },
        "678b3014134a4e5392eb3dc37f545ca0": {
          "model_module": "@jupyter-widgets/base",
          "model_name": "LayoutModel",
          "model_module_version": "1.2.0",
          "state": {
            "_model_module": "@jupyter-widgets/base",
            "_model_module_version": "1.2.0",
            "_model_name": "LayoutModel",
            "_view_count": null,
            "_view_module": "@jupyter-widgets/base",
            "_view_module_version": "1.2.0",
            "_view_name": "LayoutView",
            "align_content": null,
            "align_items": null,
            "align_self": null,
            "border": null,
            "bottom": null,
            "display": null,
            "flex": null,
            "flex_flow": null,
            "grid_area": null,
            "grid_auto_columns": null,
            "grid_auto_flow": null,
            "grid_auto_rows": null,
            "grid_column": null,
            "grid_gap": null,
            "grid_row": null,
            "grid_template_areas": null,
            "grid_template_columns": null,
            "grid_template_rows": null,
            "height": null,
            "justify_content": null,
            "justify_items": null,
            "left": null,
            "margin": null,
            "max_height": null,
            "max_width": null,
            "min_height": null,
            "min_width": null,
            "object_fit": null,
            "object_position": null,
            "order": null,
            "overflow": null,
            "overflow_x": null,
            "overflow_y": null,
            "padding": null,
            "right": null,
            "top": null,
            "visibility": null,
            "width": null
          }
        },
        "a3c9cd8b83e54c1a810b82a876fb03cc": {
          "model_module": "@jupyter-widgets/controls",
          "model_name": "ProgressStyleModel",
          "model_module_version": "1.5.0",
          "state": {
            "_model_module": "@jupyter-widgets/controls",
            "_model_module_version": "1.5.0",
            "_model_name": "ProgressStyleModel",
            "_view_count": null,
            "_view_module": "@jupyter-widgets/base",
            "_view_module_version": "1.2.0",
            "_view_name": "StyleView",
            "bar_color": null,
            "description_width": ""
          }
        },
        "fd9ffd0acb4f41a8a48386963af4e1ae": {
          "model_module": "@jupyter-widgets/base",
          "model_name": "LayoutModel",
          "model_module_version": "1.2.0",
          "state": {
            "_model_module": "@jupyter-widgets/base",
            "_model_module_version": "1.2.0",
            "_model_name": "LayoutModel",
            "_view_count": null,
            "_view_module": "@jupyter-widgets/base",
            "_view_module_version": "1.2.0",
            "_view_name": "LayoutView",
            "align_content": null,
            "align_items": null,
            "align_self": null,
            "border": null,
            "bottom": null,
            "display": null,
            "flex": null,
            "flex_flow": null,
            "grid_area": null,
            "grid_auto_columns": null,
            "grid_auto_flow": null,
            "grid_auto_rows": null,
            "grid_column": null,
            "grid_gap": null,
            "grid_row": null,
            "grid_template_areas": null,
            "grid_template_columns": null,
            "grid_template_rows": null,
            "height": null,
            "justify_content": null,
            "justify_items": null,
            "left": null,
            "margin": null,
            "max_height": null,
            "max_width": null,
            "min_height": null,
            "min_width": null,
            "object_fit": null,
            "object_position": null,
            "order": null,
            "overflow": null,
            "overflow_x": null,
            "overflow_y": null,
            "padding": null,
            "right": null,
            "top": null,
            "visibility": null,
            "width": null
          }
        },
        "86b41ce942c5499fbd2815d40496fe2d": {
          "model_module": "@jupyter-widgets/controls",
          "model_name": "DescriptionStyleModel",
          "model_module_version": "1.5.0",
          "state": {
            "_model_module": "@jupyter-widgets/controls",
            "_model_module_version": "1.5.0",
            "_model_name": "DescriptionStyleModel",
            "_view_count": null,
            "_view_module": "@jupyter-widgets/base",
            "_view_module_version": "1.2.0",
            "_view_name": "StyleView",
            "description_width": ""
          }
        },
        "f4d7d282c89d4d94990520c976b6bbfd": {
          "model_module": "@jupyter-widgets/controls",
          "model_name": "HBoxModel",
          "model_module_version": "1.5.0",
          "state": {
            "_dom_classes": [],
            "_model_module": "@jupyter-widgets/controls",
            "_model_module_version": "1.5.0",
            "_model_name": "HBoxModel",
            "_view_count": null,
            "_view_module": "@jupyter-widgets/controls",
            "_view_module_version": "1.5.0",
            "_view_name": "HBoxView",
            "box_style": "",
            "children": [
              "IPY_MODEL_e5f84d1afd98498b9e7526b48ea6c0e0",
              "IPY_MODEL_6548562295a540ec94d6f8151322f349",
              "IPY_MODEL_af454e1b1fdd49f6a5513d9e5640fd4d"
            ],
            "layout": "IPY_MODEL_ebec8e0903e0420a9c46a63c84e17d40"
          }
        },
        "e5f84d1afd98498b9e7526b48ea6c0e0": {
          "model_module": "@jupyter-widgets/controls",
          "model_name": "HTMLModel",
          "model_module_version": "1.5.0",
          "state": {
            "_dom_classes": [],
            "_model_module": "@jupyter-widgets/controls",
            "_model_module_version": "1.5.0",
            "_model_name": "HTMLModel",
            "_view_count": null,
            "_view_module": "@jupyter-widgets/controls",
            "_view_module_version": "1.5.0",
            "_view_name": "HTMLView",
            "description": "",
            "description_tooltip": null,
            "layout": "IPY_MODEL_7e2277eb232b42f790a2d9c8a4e93764",
            "placeholder": "​",
            "style": "IPY_MODEL_daeb042c8a3d45c3badcf8d8f94c4fd8",
            "value": "1_Pooling/config.json: 100%"
          }
        },
        "6548562295a540ec94d6f8151322f349": {
          "model_module": "@jupyter-widgets/controls",
          "model_name": "FloatProgressModel",
          "model_module_version": "1.5.0",
          "state": {
            "_dom_classes": [],
            "_model_module": "@jupyter-widgets/controls",
            "_model_module_version": "1.5.0",
            "_model_name": "FloatProgressModel",
            "_view_count": null,
            "_view_module": "@jupyter-widgets/controls",
            "_view_module_version": "1.5.0",
            "_view_name": "ProgressView",
            "bar_style": "success",
            "description": "",
            "description_tooltip": null,
            "layout": "IPY_MODEL_cf69ff6fd2224ebbaf8319e6b0dc4404",
            "max": 190,
            "min": 0,
            "orientation": "horizontal",
            "style": "IPY_MODEL_66e59f8402bd4c27916b7b27c1096c5d",
            "value": 190
          }
        },
        "af454e1b1fdd49f6a5513d9e5640fd4d": {
          "model_module": "@jupyter-widgets/controls",
          "model_name": "HTMLModel",
          "model_module_version": "1.5.0",
          "state": {
            "_dom_classes": [],
            "_model_module": "@jupyter-widgets/controls",
            "_model_module_version": "1.5.0",
            "_model_name": "HTMLModel",
            "_view_count": null,
            "_view_module": "@jupyter-widgets/controls",
            "_view_module_version": "1.5.0",
            "_view_name": "HTMLView",
            "description": "",
            "description_tooltip": null,
            "layout": "IPY_MODEL_733e6720424f466fa8e4d6b7c5d05e6b",
            "placeholder": "​",
            "style": "IPY_MODEL_217a0dadacc14fb5b9fb0cb5dd8e2357",
            "value": " 190/190 [00:00&lt;00:00, 2.57kB/s]"
          }
        },
        "ebec8e0903e0420a9c46a63c84e17d40": {
          "model_module": "@jupyter-widgets/base",
          "model_name": "LayoutModel",
          "model_module_version": "1.2.0",
          "state": {
            "_model_module": "@jupyter-widgets/base",
            "_model_module_version": "1.2.0",
            "_model_name": "LayoutModel",
            "_view_count": null,
            "_view_module": "@jupyter-widgets/base",
            "_view_module_version": "1.2.0",
            "_view_name": "LayoutView",
            "align_content": null,
            "align_items": null,
            "align_self": null,
            "border": null,
            "bottom": null,
            "display": null,
            "flex": null,
            "flex_flow": null,
            "grid_area": null,
            "grid_auto_columns": null,
            "grid_auto_flow": null,
            "grid_auto_rows": null,
            "grid_column": null,
            "grid_gap": null,
            "grid_row": null,
            "grid_template_areas": null,
            "grid_template_columns": null,
            "grid_template_rows": null,
            "height": null,
            "justify_content": null,
            "justify_items": null,
            "left": null,
            "margin": null,
            "max_height": null,
            "max_width": null,
            "min_height": null,
            "min_width": null,
            "object_fit": null,
            "object_position": null,
            "order": null,
            "overflow": null,
            "overflow_x": null,
            "overflow_y": null,
            "padding": null,
            "right": null,
            "top": null,
            "visibility": null,
            "width": null
          }
        },
        "7e2277eb232b42f790a2d9c8a4e93764": {
          "model_module": "@jupyter-widgets/base",
          "model_name": "LayoutModel",
          "model_module_version": "1.2.0",
          "state": {
            "_model_module": "@jupyter-widgets/base",
            "_model_module_version": "1.2.0",
            "_model_name": "LayoutModel",
            "_view_count": null,
            "_view_module": "@jupyter-widgets/base",
            "_view_module_version": "1.2.0",
            "_view_name": "LayoutView",
            "align_content": null,
            "align_items": null,
            "align_self": null,
            "border": null,
            "bottom": null,
            "display": null,
            "flex": null,
            "flex_flow": null,
            "grid_area": null,
            "grid_auto_columns": null,
            "grid_auto_flow": null,
            "grid_auto_rows": null,
            "grid_column": null,
            "grid_gap": null,
            "grid_row": null,
            "grid_template_areas": null,
            "grid_template_columns": null,
            "grid_template_rows": null,
            "height": null,
            "justify_content": null,
            "justify_items": null,
            "left": null,
            "margin": null,
            "max_height": null,
            "max_width": null,
            "min_height": null,
            "min_width": null,
            "object_fit": null,
            "object_position": null,
            "order": null,
            "overflow": null,
            "overflow_x": null,
            "overflow_y": null,
            "padding": null,
            "right": null,
            "top": null,
            "visibility": null,
            "width": null
          }
        },
        "daeb042c8a3d45c3badcf8d8f94c4fd8": {
          "model_module": "@jupyter-widgets/controls",
          "model_name": "DescriptionStyleModel",
          "model_module_version": "1.5.0",
          "state": {
            "_model_module": "@jupyter-widgets/controls",
            "_model_module_version": "1.5.0",
            "_model_name": "DescriptionStyleModel",
            "_view_count": null,
            "_view_module": "@jupyter-widgets/base",
            "_view_module_version": "1.2.0",
            "_view_name": "StyleView",
            "description_width": ""
          }
        },
        "cf69ff6fd2224ebbaf8319e6b0dc4404": {
          "model_module": "@jupyter-widgets/base",
          "model_name": "LayoutModel",
          "model_module_version": "1.2.0",
          "state": {
            "_model_module": "@jupyter-widgets/base",
            "_model_module_version": "1.2.0",
            "_model_name": "LayoutModel",
            "_view_count": null,
            "_view_module": "@jupyter-widgets/base",
            "_view_module_version": "1.2.0",
            "_view_name": "LayoutView",
            "align_content": null,
            "align_items": null,
            "align_self": null,
            "border": null,
            "bottom": null,
            "display": null,
            "flex": null,
            "flex_flow": null,
            "grid_area": null,
            "grid_auto_columns": null,
            "grid_auto_flow": null,
            "grid_auto_rows": null,
            "grid_column": null,
            "grid_gap": null,
            "grid_row": null,
            "grid_template_areas": null,
            "grid_template_columns": null,
            "grid_template_rows": null,
            "height": null,
            "justify_content": null,
            "justify_items": null,
            "left": null,
            "margin": null,
            "max_height": null,
            "max_width": null,
            "min_height": null,
            "min_width": null,
            "object_fit": null,
            "object_position": null,
            "order": null,
            "overflow": null,
            "overflow_x": null,
            "overflow_y": null,
            "padding": null,
            "right": null,
            "top": null,
            "visibility": null,
            "width": null
          }
        },
        "66e59f8402bd4c27916b7b27c1096c5d": {
          "model_module": "@jupyter-widgets/controls",
          "model_name": "ProgressStyleModel",
          "model_module_version": "1.5.0",
          "state": {
            "_model_module": "@jupyter-widgets/controls",
            "_model_module_version": "1.5.0",
            "_model_name": "ProgressStyleModel",
            "_view_count": null,
            "_view_module": "@jupyter-widgets/base",
            "_view_module_version": "1.2.0",
            "_view_name": "StyleView",
            "bar_color": null,
            "description_width": ""
          }
        },
        "733e6720424f466fa8e4d6b7c5d05e6b": {
          "model_module": "@jupyter-widgets/base",
          "model_name": "LayoutModel",
          "model_module_version": "1.2.0",
          "state": {
            "_model_module": "@jupyter-widgets/base",
            "_model_module_version": "1.2.0",
            "_model_name": "LayoutModel",
            "_view_count": null,
            "_view_module": "@jupyter-widgets/base",
            "_view_module_version": "1.2.0",
            "_view_name": "LayoutView",
            "align_content": null,
            "align_items": null,
            "align_self": null,
            "border": null,
            "bottom": null,
            "display": null,
            "flex": null,
            "flex_flow": null,
            "grid_area": null,
            "grid_auto_columns": null,
            "grid_auto_flow": null,
            "grid_auto_rows": null,
            "grid_column": null,
            "grid_gap": null,
            "grid_row": null,
            "grid_template_areas": null,
            "grid_template_columns": null,
            "grid_template_rows": null,
            "height": null,
            "justify_content": null,
            "justify_items": null,
            "left": null,
            "margin": null,
            "max_height": null,
            "max_width": null,
            "min_height": null,
            "min_width": null,
            "object_fit": null,
            "object_position": null,
            "order": null,
            "overflow": null,
            "overflow_x": null,
            "overflow_y": null,
            "padding": null,
            "right": null,
            "top": null,
            "visibility": null,
            "width": null
          }
        },
        "217a0dadacc14fb5b9fb0cb5dd8e2357": {
          "model_module": "@jupyter-widgets/controls",
          "model_name": "DescriptionStyleModel",
          "model_module_version": "1.5.0",
          "state": {
            "_model_module": "@jupyter-widgets/controls",
            "_model_module_version": "1.5.0",
            "_model_name": "DescriptionStyleModel",
            "_view_count": null,
            "_view_module": "@jupyter-widgets/base",
            "_view_module_version": "1.2.0",
            "_view_name": "StyleView",
            "description_width": ""
          }
        }
      }
    }
  },
  "cells": [
    {
      "cell_type": "markdown",
      "source": [
        "<h1><strong>Melhorando o comércio eletrônico com IA generativa</strong></h1>\n",
        "<h2>Introdução</h2>\n",
        "\n",
        "A IA generativa está revolucionando a forma como as empresas em vários domínios funcionam e o comércio eletrónico não é exceção. À medida que o comércio eletrônico cresce, o mesmo acontece com a necessidade de soluções mais escaláveis e sofisticadas. Neste notebook, exploramos várias aplicações da IA generativa no comércio eletrónico, analisando a forma como a IA generativa ajuda nas recomendações de produtos. Em primeiro lugar, os metadados de produtos foram utilizados para aprender as suas incorporações representativas e\n",
        "analisado como estas incorporações ajudam a classificar os itens. Em seguida, foi calculada a incorporação do usuário com base no seu histórico de compras. Por fim, os embeddings de usuários e de itens aprendidos foram utilizados para recomendar produtos.\n"
      ],
      "metadata": {
        "id": "boFBbpXSBeqD"
      }
    },
    {
      "cell_type": "markdown",
      "source": [
        "---"
      ],
      "metadata": {
        "id": "U_OoTKRle8KD"
      }
    },
    {
      "cell_type": "markdown",
      "source": [
        "<h1><strong>1. O Conjunto de dados</strong></h1>"
      ],
      "metadata": {
        "id": "3E0TjLQ-Fgkr"
      }
    },
    {
      "cell_type": "markdown",
      "source": [
        "<h3><strong>1.1 Geração de Dados Sintéticos</strong></h3>\n",
        "\n",
        "Embora existam muitos conjuntos de dados de itens de usuário disponíveis online, para este trabalho, geramos sinteticamente o conjunto de dados. Este conjunto de dados é composto por duas partes: 1) metadados do item e 2) dados do item do usuário. O conjunto de dados de metadados do item contém item_id, título, caraterística, descrição e categoria. Os dados de compra do item do usuário contêm user_id, item_id e timestamp. Este conjunto de dados indica que usuário comprou que item e a que horas.\n"
      ],
      "metadata": {
        "id": "a-m39F7uGDUQ"
      }
    },
    {
      "cell_type": "code",
      "source": [
        "#@title Instalando a biblioteca da API da OpenAI\n",
        "\n",
        "!pip install openai"
      ],
      "metadata": {
        "colab": {
          "base_uri": "https://localhost:8080/"
        },
        "id": "Ckthw35COCWv",
        "outputId": "c4c0a9d2-88a2-4d71-f872-8f4329859749"
      },
      "execution_count": 2,
      "outputs": [
        {
          "output_type": "stream",
          "name": "stdout",
          "text": [
            "Collecting openai\n",
            "  Downloading openai-1.44.0-py3-none-any.whl.metadata (22 kB)\n",
            "Requirement already satisfied: anyio<5,>=3.5.0 in /usr/local/lib/python3.10/dist-packages (from openai) (3.7.1)\n",
            "Requirement already satisfied: distro<2,>=1.7.0 in /usr/lib/python3/dist-packages (from openai) (1.7.0)\n",
            "Collecting httpx<1,>=0.23.0 (from openai)\n",
            "  Downloading httpx-0.27.2-py3-none-any.whl.metadata (7.1 kB)\n",
            "Collecting jiter<1,>=0.4.0 (from openai)\n",
            "  Downloading jiter-0.5.0-cp310-cp310-manylinux_2_17_x86_64.manylinux2014_x86_64.whl.metadata (3.6 kB)\n",
            "Requirement already satisfied: pydantic<3,>=1.9.0 in /usr/local/lib/python3.10/dist-packages (from openai) (2.8.2)\n",
            "Requirement already satisfied: sniffio in /usr/local/lib/python3.10/dist-packages (from openai) (1.3.1)\n",
            "Requirement already satisfied: tqdm>4 in /usr/local/lib/python3.10/dist-packages (from openai) (4.66.5)\n",
            "Requirement already satisfied: typing-extensions<5,>=4.11 in /usr/local/lib/python3.10/dist-packages (from openai) (4.12.2)\n",
            "Requirement already satisfied: idna>=2.8 in /usr/local/lib/python3.10/dist-packages (from anyio<5,>=3.5.0->openai) (3.8)\n",
            "Requirement already satisfied: exceptiongroup in /usr/local/lib/python3.10/dist-packages (from anyio<5,>=3.5.0->openai) (1.2.2)\n",
            "Requirement already satisfied: certifi in /usr/local/lib/python3.10/dist-packages (from httpx<1,>=0.23.0->openai) (2024.8.30)\n",
            "Collecting httpcore==1.* (from httpx<1,>=0.23.0->openai)\n",
            "  Downloading httpcore-1.0.5-py3-none-any.whl.metadata (20 kB)\n",
            "Collecting h11<0.15,>=0.13 (from httpcore==1.*->httpx<1,>=0.23.0->openai)\n",
            "  Downloading h11-0.14.0-py3-none-any.whl.metadata (8.2 kB)\n",
            "Requirement already satisfied: annotated-types>=0.4.0 in /usr/local/lib/python3.10/dist-packages (from pydantic<3,>=1.9.0->openai) (0.7.0)\n",
            "Requirement already satisfied: pydantic-core==2.20.1 in /usr/local/lib/python3.10/dist-packages (from pydantic<3,>=1.9.0->openai) (2.20.1)\n",
            "Downloading openai-1.44.0-py3-none-any.whl (367 kB)\n",
            "\u001b[2K   \u001b[90m━━━━━━━━━━━━━━━━━━━━━━━━━━━━━━━━━━━━━━━━\u001b[0m \u001b[32m367.8/367.8 kB\u001b[0m \u001b[31m3.7 MB/s\u001b[0m eta \u001b[36m0:00:00\u001b[0m\n",
            "\u001b[?25hDownloading httpx-0.27.2-py3-none-any.whl (76 kB)\n",
            "\u001b[2K   \u001b[90m━━━━━━━━━━━━━━━━━━━━━━━━━━━━━━━━━━━━━━━━\u001b[0m \u001b[32m76.4/76.4 kB\u001b[0m \u001b[31m1.2 MB/s\u001b[0m eta \u001b[36m0:00:00\u001b[0m\n",
            "\u001b[?25hDownloading httpcore-1.0.5-py3-none-any.whl (77 kB)\n",
            "\u001b[2K   \u001b[90m━━━━━━━━━━━━━━━━━━━━━━━━━━━━━━━━━━━━━━━━\u001b[0m \u001b[32m77.9/77.9 kB\u001b[0m \u001b[31m1.8 MB/s\u001b[0m eta \u001b[36m0:00:00\u001b[0m\n",
            "\u001b[?25hDownloading jiter-0.5.0-cp310-cp310-manylinux_2_17_x86_64.manylinux2014_x86_64.whl (318 kB)\n",
            "\u001b[2K   \u001b[90m━━━━━━━━━━━━━━━━━━━━━━━━━━━━━━━━━━━━━━━━\u001b[0m \u001b[32m318.9/318.9 kB\u001b[0m \u001b[31m8.9 MB/s\u001b[0m eta \u001b[36m0:00:00\u001b[0m\n",
            "\u001b[?25hDownloading h11-0.14.0-py3-none-any.whl (58 kB)\n",
            "\u001b[2K   \u001b[90m━━━━━━━━━━━━━━━━━━━━━━━━━━━━━━━━━━━━━━━━\u001b[0m \u001b[32m58.3/58.3 kB\u001b[0m \u001b[31m2.5 MB/s\u001b[0m eta \u001b[36m0:00:00\u001b[0m\n",
            "\u001b[?25hInstalling collected packages: jiter, h11, httpcore, httpx, openai\n",
            "Successfully installed h11-0.14.0 httpcore-1.0.5 httpx-0.27.2 jiter-0.5.0 openai-1.44.0\n"
          ]
        }
      ]
    },
    {
      "cell_type": "markdown",
      "source": [
        "<h3><strong>1.2 Geração de conjunto de metadados de itens</strong></h3>\n",
        "\n",
        "\n",
        "Para gerar o conjunto de dados de metadados do item, foi utilizada a API openAI. Para utilizar a API é necessário ter créditos suficientes e criar uma  API key. Abaixo está o código para gerar o conjunto de dados de metadados do item."
      ],
      "metadata": {
        "id": "A-cCI_YNclx3"
      }
    },
    {
      "cell_type": "code",
      "source": [
        "from openai import OpenAI\n",
        "import json\n",
        "import re\n",
        "\n",
        "client = OpenAI(api_key='insira-sua-chave')\n",
        "\n",
        "def form_prompt():\n",
        "    completion = client.chat.completions.create(\n",
        "        model=\"gpt-4o-mini\",\n",
        "        messages=[\n",
        "            {\"role\": \"user\",\n",
        "            \"content\": \"\"\"\n",
        "                Gere um conjunto de dados de metadados de itens para mim que tenha cinco colunas: item_id, título, característica, descrição, categoria. Eu quero que característica e descrição sejam uma lista, e a categoria seja definida como \"moda\".\n",
        "                A coluna item_id é um número inteiro escolhido aleatoriamente.\n",
        "            \"\"\"\n",
        "            }\n",
        "        ]\n",
        "    )\n",
        "\n",
        "    return(completion.choices[0].message.content)\n",
        "if __name__ == '__main__':\n",
        "\n",
        "    response = form_prompt()\n",
        "    print(response)"
      ],
      "metadata": {
        "id": "fACgCVzQcwNi",
        "colab": {
          "base_uri": "https://localhost:8080/"
        },
        "outputId": "20d0ae75-a1ad-4404-95b8-c6003bcb08f4"
      },
      "execution_count": 3,
      "outputs": [
        {
          "output_type": "stream",
          "name": "stdout",
          "text": [
            "Aqui está um conjunto de dados de metadados de itens com as especificações solicitadas:\n",
            "\n",
            "| item_id | título                  | característica                     | descrição                                                  | categoria |\n",
            "|---------|-------------------------|-----------------------------------|-----------------------------------------------------------|-----------|\n",
            "| 101     | Camiseta Estampada      | [\"algodão\", \"manga curta\"]       | [\"Camiseta de algodão leve\", \"Perfeita para o verão\"]    | moda      |\n",
            "| 102     | Calça Jeans              | [\"denim\", \"cintura alta\"]        | [\"Calça jeans confortável\", \"Estilo clássico e casual\"]   | moda      |\n",
            "| 103     | Tênis Casual            | [\"couro sintético\", \"solado flexível\"] | [\"Tênis ideal para o dia a dia\", \"Design moderno\"]      | moda      |\n",
            "| 104     | Vestido de Verão        | [\"polyester\", \"estampa floral\"]  | [\"Vestido leve e arejado\", \"Ótimo para ocasiões informais\"] | moda    |\n",
            "| 105     | Jaqueta Bomber          | [\"nylon\", \"ziper\"]               | [\"Jaqueta estilo bomber\", \"Perfeita para o outono\"]       | moda      |\n",
            "| 106     | Saia Midi               | [\"viscose\", \"cintura ajustável\"] | [\"Saia midi elegante\", \"Versátil para diversas ocasiões\"] | moda      |\n",
            "| 107     | Blusa de Frio           | [\"pulôver\", \"poliéster\"]         | [\"Blusa quentinha para o inverno\", \"Conforto e estilo\"]  | moda      |\n",
            "| 108     | Bota de Couro          | [\"couro\", \"salto médio\"]         | [\"Bota de couro durável\", \"Perfeita para o outono/inverno\"] | moda    |\n",
            "| 109     | Shorts de Beach         | [\"poliamida\", \"secagem rápida\"]  | [\"Shorts leves para a praia\", \"Ideal para atividades aquáticas\"] | moda |\n",
            "| 110     | Acessório de Cabelo     | [\"tecido\", \"flor\"]               | [\"Grampo de cabelo decorativo\", \"Adiciona charme ao visual\"] | moda   |\n",
            "\n",
            "Esse conjunto de dados contém itens da categoria \"moda\", com cada linha apresentando um identificador único, um título, características e descrições em formato de listas.\n"
          ]
        }
      ]
    },
    {
      "cell_type": "markdown",
      "source": [
        "Conforme esperado, utilizando o modelo GPT-4o-mini e solicitamos que gere itens da categoria moda. Agora que o prompt está funcional, podemos alterá-lo para passar um item_id e gerar um ponto de dados:"
      ],
      "metadata": {
        "id": "Ma-yTjulMoo5"
      }
    },
    {
      "cell_type": "code",
      "source": [
        "def form_prompt(item_id):\n",
        "\n",
        "  completion = client.chat.completions.create(\n",
        "    model=\"gpt-4o-mini\",\n",
        "    messages=[\n",
        "      {\"role\": \"user\",\n",
        "      \"content\": \"\"\"\n",
        "         Eu lhe dou um item_id para um item na categoria moda, e quero que você gere título, característica e descrição para ele.\n",
        "         Eu quero que a descrição seja frases completas e que características e descrição sejam uma lista.\n",
        "         item id: {item_id}\n",
        "            \"\"\".format(item_id=item_id)\n",
        "      }\n",
        "    ]\n",
        "  )\n",
        "\n",
        "  return(completion.choices[0].message.content)\n"
      ],
      "metadata": {
        "id": "WLVYQvneZOvn"
      },
      "execution_count": null,
      "outputs": []
    },
    {
      "cell_type": "code",
      "source": [
        "def parsear_resposta(resposta):\n",
        "    # Regex para capturar o título\n",
        "    titulo_match = re.search(r\"Título:\\s*(.*)\", resposta)\n",
        "    titulo = titulo_match.group(1).strip() if titulo_match else \"Sem título\"\n",
        "\n",
        "    # Captura as características\n",
        "    caracteristicas_match = re.search(r\"Características:\\s*([\\s\\S]*?)\\n\\n\", resposta)\n",
        "    caracteristicas = []\n",
        "    if caracteristicas_match:\n",
        "        caracteristicas_texto = caracteristicas_match.group(1).strip()\n",
        "        # Dividir as características em uma lista\n",
        "        caracteristicas = [linha.strip(\"- \").strip() for linha in caracteristicas_texto.splitlines() if linha.strip()]\n",
        "\n",
        "    # Captura a descrição\n",
        "    descricao_match = re.search(r\"Descrição:\\s*(.*)\", resposta, re.DOTALL)\n",
        "    descricao = descricao_match.group(1).strip() if descricao_match else \"Sem descrição\"\n",
        "\n",
        "    return {\n",
        "        \"titulo\": titulo,\n",
        "        \"caracteristicas\": caracteristicas,\n",
        "        \"descricao\": descricao\n",
        "    }\n",
        "\n",
        "def gerar_dados():\n",
        "    dados = []\n",
        "    for item_id in range(1, 5):\n",
        "        resposta = form_prompt(item_id)\n",
        "        resposta_parseada = parsear_resposta(resposta)\n",
        "        item_dados = {\n",
        "            \"item_id\": item_id,\n",
        "            \"titulo\": resposta_parseada['titulo'],\n",
        "            \"caracteristicas\": resposta_parseada['caracteristicas'],\n",
        "            \"descricao\": resposta_parseada['descricao'],\n",
        "            \"categoria\": \"moda\"\n",
        "        }\n",
        "        dados.append(item_dados)\n",
        "    return dados\n",
        "\n",
        "def save_to_json(dados, filename='item_metadata.json'):\n",
        "    with open(filename, 'w') as file:\n",
        "        json.dump(dados, file, indent=4)\n",
        "\n",
        "if __name__ == '__main__':\n",
        "    dados_itens = gerar_dados()\n",
        "    save_to_json(dados_itens)\n",
        "    print(f\"Dados salvos em item_metadata.json\")"
      ],
      "metadata": {
        "id": "8cjDNo9nJtdQ",
        "colab": {
          "base_uri": "https://localhost:8080/"
        },
        "outputId": "3544dade-79a7-4984-d96a-4fb2fe0cd4e5"
      },
      "execution_count": null,
      "outputs": [
        {
          "output_type": "stream",
          "name": "stdout",
          "text": [
            "Dados salvos em item_metadata.json\n"
          ]
        }
      ]
    },
    {
      "cell_type": "markdown",
      "source": [
        "Para carregar a base de dados criada previamente, é necessário acessar a pasta Colab Notebooks e inserir a base de dados item_metadata.json manualmente na seção de arquivos do Colab."
      ],
      "metadata": {
        "id": "b7Uj4JNrTTRX"
      }
    },
    {
      "cell_type": "markdown",
      "source": [
        "<h3><strong>1.3 Geração de conjunto de dados de itens de usuário</strong></h3>\n",
        "\n",
        "\n",
        "É uma tarefa mais fácil gerar sinteticamente um conjunto de dados de itens de usuário. Este conjunto de dados contém user_id, item_id e timestamp. Para o gerar, podemos fazer o seguinte:"
      ],
      "metadata": {
        "id": "antAe4facrZn"
      }
    },
    {
      "cell_type": "code",
      "source": [
        "import random\n",
        "from datetime import datetime, timedelta\n",
        "\n",
        "def generate_random_timestamp(start_year=2022, end_year=2024):\n",
        "    start = datetime(start_year, 1, 1)\n",
        "    end = datetime(end_year, 12, 31)\n",
        "    return start + (end - start) * random.random()\n",
        "\n",
        "def create_json_file(num_records, filename):\n",
        "    data = []\n",
        "\n",
        "    for _ in range(num_records):\n",
        "        item_id = random.randint(1, 500)\n",
        "        user_id = random.randint(1, 100)\n",
        "        timestamp = generate_random_timestamp().strftime('%Y-%m-%d %H:%M:%S')\n",
        "\n",
        "        record = {\n",
        "            \"item_id\": item_id,\n",
        "            \"user_id\": user_id,\n",
        "            \"timestamp\": timestamp\n",
        "        }\n",
        "\n",
        "        data.append(record)\n",
        "\n",
        "    with open(filename, 'w') as file:\n",
        "        json.dump(data, file, indent=4)"
      ],
      "metadata": {
        "id": "70ft3edsGE1Q"
      },
      "execution_count": null,
      "outputs": []
    },
    {
      "cell_type": "markdown",
      "source": [
        "No código acima, assumimos que existem 500 itens e 100 usuários. Podemos gerar o ficheiro item_user_data.json da seguinte forma:"
      ],
      "metadata": {
        "id": "yooDj5ZNTun1"
      }
    },
    {
      "cell_type": "code",
      "source": [
        "create_json_file(3500, 'item_user_data.json')"
      ],
      "metadata": {
        "id": "Q2NMkGIcTv21"
      },
      "execution_count": null,
      "outputs": []
    },
    {
      "cell_type": "markdown",
      "source": [
        "\n",
        "\n",
        "---\n",
        "\n"
      ],
      "metadata": {
        "id": "McmwxZrAfFgf"
      }
    },
    {
      "cell_type": "markdown",
      "source": [
        "<h1><strong>2. Aprendizagem de Embeddings Representativos para Itens</strong></h1>\n",
        "\n",
        "Para recomendar produtos aos usuários, é necessário, em primeiro lugar, aprender uma representação dos itens/produtos. Depois disso, utilizamos o histórico de compras dos usuários para obter uma representação dos mesmos com base nos artigos que compraram. Só então, quando tivermos representações dos usuários e dos produtos, poderemos fazer a recomendação dos produtos.\n",
        "\n",
        "Assim, primeiro calculamos um embeddings representativo para os itens com base na sua caraterística, título e descrição. O objetivo aqui é ter uma incorporação que reflicta a categoria ou subcategoria do item. Se encontrarmos uma tal incorporação, podemos utilizá-la para identificar a categoria (ou subcategoria) de novos itens."
      ],
      "metadata": {
        "id": "4O7mGoPKGF33"
      }
    },
    {
      "cell_type": "markdown",
      "source": [
        "<h3><strong>2.1 Preparação e limpeza de dados</strong></h3>\n",
        "\n",
        "Começamos por carregar os dados. Lemos o conjunto de dados item-metadata, que contém metadados sobre produtos da categoria moda:"
      ],
      "metadata": {
        "id": "dvfYkCzTcz-I"
      }
    },
    {
      "cell_type": "code",
      "source": [
        "import pandas as pd\n",
        "meta_df = pd.read_json(\"item_metadata.json\")"
      ],
      "metadata": {
        "id": "tAcwGrW0NveV"
      },
      "execution_count": null,
      "outputs": []
    },
    {
      "cell_type": "markdown",
      "source": [
        "Para garantir que trabalhamos com pontos de dados de alta qualidade, devemos filtrar as linhas que têm uma lista vazia para a caraterística e a descrição. Também devemos filtrar as linhas que têm menos de 10 características, porque quanto mais características um produto tiver, melhor será a incorporação que podemos calcular para ele. O objetivo do processo de limpeza é manter apenas as linhas de alta qualidade."
      ],
      "metadata": {
        "id": "reWOc3PKUDL3"
      }
    },
    {
      "cell_type": "code",
      "source": [
        "# Aplicar máscaras para filtrar linhas onde 'caracteristicas' e 'descricao' não são listas vazias\n",
        "mask1 = meta_df['caracteristicas'].apply(lambda x: x != [])\n",
        "mask2 = meta_df['descricao'].apply(lambda x: x != [])\n",
        "\n",
        "# Filtrar DataFrame com base nas máscaras\n",
        "df2 = meta_df[mask1 & mask2].copy()  # Usar .copy() para evitar o SettingWithCopyWarning\n",
        "\n",
        "# Adicionar a coluna 'Tamanho' que conta o número de características\n",
        "df2['Tamanho'] = df2['caracteristicas'].apply(len)\n",
        "\n",
        "# Filtrar para manter apenas as linhas onde 'Tamanho' é maior ou igual a 10\n",
        "df3 = df2[df2['Tamanho'] >= 5]\n",
        "\n",
        "# Mostrar o shape do DataFrame final\n",
        "print(df3.shape)"
      ],
      "metadata": {
        "colab": {
          "base_uri": "https://localhost:8080/"
        },
        "id": "hi1NuXZWhFis",
        "outputId": "6bad75af-1e29-4776-c492-30b6c47eb740"
      },
      "execution_count": null,
      "outputs": [
        {
          "output_type": "stream",
          "name": "stdout",
          "text": [
            "(500, 6)\n"
          ]
        }
      ]
    },
    {
      "cell_type": "markdown",
      "source": [
        "<h3><strong>2.2 Combinando recursos, descrição e título</strong></h3>\n",
        "\n",
        "Em seguida, combinamos três colunas de características, descrição e título numa coluna e utilizamo-la para calcular os vectores de incorporação dos produtos:\n"
      ],
      "metadata": {
        "id": "6uUI4_ldc1GS"
      }
    },
    {
      "cell_type": "code",
      "source": [
        "# Criar uma cópia segura do DataFrame\n",
        "df3_copy = df3.copy()\n",
        "\n",
        "# Adicionar a coluna 'j_features' usando .loc[]\n",
        "df3_copy.loc[:, 'j_features'] = df3_copy['caracteristicas'].apply(lambda x: ', '.join(x))\n",
        "\n",
        "# Adicionar a coluna 'j_description' usando .loc[]\n",
        "df3_copy.loc[:, 'j_description'] = df3_copy['descricao']\n",
        "\n",
        "# Criar a coluna 'combined' usando .loc[]\n",
        "df3_copy.loc[:, 'combined'] = df3_copy.apply(lambda row: f\"{row['titulo']} {row['j_features']} {row['j_description']}\", axis=1)\n",
        "\n"
      ],
      "metadata": {
        "id": "LUfqkc1OfREH"
      },
      "execution_count": null,
      "outputs": []
    },
    {
      "cell_type": "markdown",
      "source": [
        "<h3><strong>2.3 Usando <I>sentence-transformers</I> para <I>Embbeding</I></strong></h3>\n",
        "\n",
        "Podemos utilizar qualquer LLM pré-treinado para calcular a incorporação de itens, mas neste trabalho foi utilizado transformadores de frases, uma vez que a descrição contém frases e os transformadores de frases são conhecidos por aprenderem melhores representações para frases."
      ],
      "metadata": {
        "id": "Ipu7btxKc1TK"
      }
    },
    {
      "cell_type": "code",
      "source": [
        "#@title Instalando o transformador de frases\n",
        "!pip install sentence-transformers"
      ],
      "metadata": {
        "id": "2h5BskBhfRWr",
        "colab": {
          "base_uri": "https://localhost:8080/"
        },
        "outputId": "31f71f86-7803-4734-caf9-47cb32200495"
      },
      "execution_count": null,
      "outputs": [
        {
          "output_type": "stream",
          "name": "stdout",
          "text": [
            "Collecting sentence-transformers\n",
            "  Downloading sentence_transformers-3.0.1-py3-none-any.whl.metadata (10 kB)\n",
            "Requirement already satisfied: transformers<5.0.0,>=4.34.0 in /usr/local/lib/python3.10/dist-packages (from sentence-transformers) (4.42.4)\n",
            "Requirement already satisfied: tqdm in /usr/local/lib/python3.10/dist-packages (from sentence-transformers) (4.66.5)\n",
            "Requirement already satisfied: torch>=1.11.0 in /usr/local/lib/python3.10/dist-packages (from sentence-transformers) (2.4.0+cu121)\n",
            "Requirement already satisfied: numpy in /usr/local/lib/python3.10/dist-packages (from sentence-transformers) (1.26.4)\n",
            "Requirement already satisfied: scikit-learn in /usr/local/lib/python3.10/dist-packages (from sentence-transformers) (1.3.2)\n",
            "Requirement already satisfied: scipy in /usr/local/lib/python3.10/dist-packages (from sentence-transformers) (1.13.1)\n",
            "Requirement already satisfied: huggingface-hub>=0.15.1 in /usr/local/lib/python3.10/dist-packages (from sentence-transformers) (0.23.5)\n",
            "Requirement already satisfied: Pillow in /usr/local/lib/python3.10/dist-packages (from sentence-transformers) (9.4.0)\n",
            "Requirement already satisfied: filelock in /usr/local/lib/python3.10/dist-packages (from huggingface-hub>=0.15.1->sentence-transformers) (3.15.4)\n",
            "Requirement already satisfied: fsspec>=2023.5.0 in /usr/local/lib/python3.10/dist-packages (from huggingface-hub>=0.15.1->sentence-transformers) (2024.6.1)\n",
            "Requirement already satisfied: packaging>=20.9 in /usr/local/lib/python3.10/dist-packages (from huggingface-hub>=0.15.1->sentence-transformers) (24.1)\n",
            "Requirement already satisfied: pyyaml>=5.1 in /usr/local/lib/python3.10/dist-packages (from huggingface-hub>=0.15.1->sentence-transformers) (6.0.2)\n",
            "Requirement already satisfied: requests in /usr/local/lib/python3.10/dist-packages (from huggingface-hub>=0.15.1->sentence-transformers) (2.32.3)\n",
            "Requirement already satisfied: typing-extensions>=3.7.4.3 in /usr/local/lib/python3.10/dist-packages (from huggingface-hub>=0.15.1->sentence-transformers) (4.12.2)\n",
            "Requirement already satisfied: sympy in /usr/local/lib/python3.10/dist-packages (from torch>=1.11.0->sentence-transformers) (1.13.2)\n",
            "Requirement already satisfied: networkx in /usr/local/lib/python3.10/dist-packages (from torch>=1.11.0->sentence-transformers) (3.3)\n",
            "Requirement already satisfied: jinja2 in /usr/local/lib/python3.10/dist-packages (from torch>=1.11.0->sentence-transformers) (3.1.4)\n",
            "Requirement already satisfied: regex!=2019.12.17 in /usr/local/lib/python3.10/dist-packages (from transformers<5.0.0,>=4.34.0->sentence-transformers) (2024.5.15)\n",
            "Requirement already satisfied: safetensors>=0.4.1 in /usr/local/lib/python3.10/dist-packages (from transformers<5.0.0,>=4.34.0->sentence-transformers) (0.4.4)\n",
            "Requirement already satisfied: tokenizers<0.20,>=0.19 in /usr/local/lib/python3.10/dist-packages (from transformers<5.0.0,>=4.34.0->sentence-transformers) (0.19.1)\n",
            "Requirement already satisfied: joblib>=1.1.1 in /usr/local/lib/python3.10/dist-packages (from scikit-learn->sentence-transformers) (1.4.2)\n",
            "Requirement already satisfied: threadpoolctl>=2.0.0 in /usr/local/lib/python3.10/dist-packages (from scikit-learn->sentence-transformers) (3.5.0)\n",
            "Requirement already satisfied: MarkupSafe>=2.0 in /usr/local/lib/python3.10/dist-packages (from jinja2->torch>=1.11.0->sentence-transformers) (2.1.5)\n",
            "Requirement already satisfied: charset-normalizer<4,>=2 in /usr/local/lib/python3.10/dist-packages (from requests->huggingface-hub>=0.15.1->sentence-transformers) (3.3.2)\n",
            "Requirement already satisfied: idna<4,>=2.5 in /usr/local/lib/python3.10/dist-packages (from requests->huggingface-hub>=0.15.1->sentence-transformers) (3.8)\n",
            "Requirement already satisfied: urllib3<3,>=1.21.1 in /usr/local/lib/python3.10/dist-packages (from requests->huggingface-hub>=0.15.1->sentence-transformers) (2.0.7)\n",
            "Requirement already satisfied: certifi>=2017.4.17 in /usr/local/lib/python3.10/dist-packages (from requests->huggingface-hub>=0.15.1->sentence-transformers) (2024.7.4)\n",
            "Requirement already satisfied: mpmath<1.4,>=1.1.0 in /usr/local/lib/python3.10/dist-packages (from sympy->torch>=1.11.0->sentence-transformers) (1.3.0)\n",
            "Downloading sentence_transformers-3.0.1-py3-none-any.whl (227 kB)\n",
            "\u001b[2K   \u001b[90m━━━━━━━━━━━━━━━━━━━━━━━━━━━━━━━━━━━━━━━━\u001b[0m \u001b[32m227.1/227.1 kB\u001b[0m \u001b[31m4.3 MB/s\u001b[0m eta \u001b[36m0:00:00\u001b[0m\n",
            "\u001b[?25hInstalling collected packages: sentence-transformers\n",
            "Successfully installed sentence-transformers-3.0.1\n"
          ]
        }
      ]
    },
    {
      "cell_type": "code",
      "source": [
        "#@title Carregando um dos modelos\n",
        "from sentence_transformers import SentenceTransformer\n",
        "\n",
        "model = SentenceTransformer('all-MiniLM-L6-v2')"
      ],
      "metadata": {
        "id": "beoRwF6dUsu-",
        "colab": {
          "base_uri": "https://localhost:8080/",
          "height": 528,
          "referenced_widgets": [
            "1eabc4e19dc447798bf984a5d27f70f3",
            "7ce90ee2ab5447dc9719c965b0c49513",
            "5665df942bec49cdb65f272aa4871b90",
            "f4c2910c3b0442a7b2668b671ff9087c",
            "61e1da41902f41ef99a56030ead6d213",
            "0a7285baf29343889eaa00557dfa2c66",
            "e40a51fd1a324321803086e1279a30d2",
            "fdc6fb594c094eb8934f5af94de7d16f",
            "2e19e0b142bd4873b0a4ae47aa2e9f8a",
            "6590fa97f2c94fe19ff6538d8c67e30e",
            "4f5f6a77615943d6879fe77177f0869a",
            "e284b8d5c3a24966bbf2d68bd3f848fc",
            "fedc472f571448ea953baf921636c3ce",
            "b101067d7f1e4e6dab363c86985af47e",
            "fc489ba04820475aa80ed1dc76a43587",
            "83fa45f842be4efdae9b112260e822a2",
            "513fbe52b1f04d44a218739bc172365e",
            "717f69fb7a074065ad08caae405d3b47",
            "3aa75b42de594f9db1f2944e7d179bf3",
            "f275f26c722b4cc3b83a709af23446b1",
            "44e985115b744e9cbe69796d7bba70b6",
            "5ab974237d894fa6bb9bffcdc1e6350a",
            "1fa9dcd6f53e4f12b1b097060f7d1b22",
            "09888a128fb44aa9ad8c8b60c5e52ab0",
            "d86eaccdf2a14e808588b222278d1388",
            "ac71ff539e4b4d558b52a57c0ae88aaa",
            "00fdcb8a29034267b1d684c9a9886b72",
            "0a351f1387934ee0872375f240ca27d0",
            "83954beb5c3649f99ebadf1b889fc15b",
            "309904a464854bc78315e5a9f7eb3026",
            "7bfa377a07d04ad4ab9924c529c9e596",
            "e2fe453ec0734ae493a82965eb86f69a",
            "d68f066bdfa84b68856e3f8dc7d00828",
            "0ae9fd4485e0425b97898671efda3217",
            "2634b5614c574e60a8b812279898381a",
            "56c0fd05d686453fad624e35dff522d7",
            "a6af285de04f4acb8887da4da2ce236b",
            "9853399670cd4344991b04911f3e7f3e",
            "7e5ed685f9de40dfa3f967da39bccde4",
            "0b7051974adb4ff08ff2ff8a4bf4aef4",
            "e006a9a94aff4be8b29f948dc7222ba0",
            "edff47146a9c42288130ce15013719a0",
            "5e0ea0b32bd54e009808f0754ec0b236",
            "159e718b2d874114a11446035947e1c1",
            "b28c94a201484ed4aafc037128ebef9e",
            "4d143a9aabad471cb80df8b002dc7165",
            "1801cb2735d447bfbb1363e22c2382a7",
            "1dcf15161a594f2c80b0d50aedd6944a",
            "b963fc7c0fd44fe6a0bdb96d6fb2480b",
            "41d6c3904741496c9c9c1f0d71056c21",
            "cff6011fbd5341bea059fe68bcdf38fe",
            "5373fc3fb18247bc9fbf90b716387f3f",
            "25219d006a1c4d6fb4dc77ad10bc7228",
            "fbc4c56f04474285a523c90d0ec6ae7b",
            "a8a1f2b1a1c74f5db4457081df921439",
            "844d10ce9f1d429abe089f0c65df36ee",
            "301521dbd9e34441a0cc9124a335e8c8",
            "c06535492b4c4ad58c64db4058c4d843",
            "4e84852aa79b4d1787ae81c5c25d539e",
            "b72e5235ef0d429cb7ea86ec0b3ee255",
            "f6285c24835d4435b06534ebd38bd54d",
            "376c5f1cd4af492783721a0acfee094a",
            "a670415ab0a24ec3a6d31e895274a129",
            "4d991dedd3cf4af692338b509b90d181",
            "19e083ee935944cf8e13cc36efd61bd9",
            "e8ec236b37424cf3b3ff4306c7980d97",
            "074f51f96dbb48e49d45161dc7e0f9ce",
            "36a21a2325044e6b8c0bfb466c2f7533",
            "d86f7b6cf03f45c0a03e92250a57a6d1",
            "affbafe55f6c4f25967abfbb462fe488",
            "22a9b947fb9c41cb97ed8c60e8a822fd",
            "1a8762a48f4f447cb9d7c4e2c83e2e0a",
            "adb3b5fb1a824bafaf717fae9fc40e35",
            "16b72f359b4443f588f83a70591cefb8",
            "bcdcf9a4bab644c8906c2a610e6fba5a",
            "004cac2699044947ae436356812d8d9f",
            "cc9de7f5ca31453f8c30a37bfc45f97f",
            "13147eb5ecf144ce8962b404123407b6",
            "b22c3ecc8752406f8f0bc866230de91b",
            "8025c89dcc82486aac0bfa15d11ec7c4",
            "d8ef57a97dfc48c69c909ec283c2d8e9",
            "e4f581f02a8042488425ce495a8e9e97",
            "794746805be744a78ce4334d771fa886",
            "6831c5b015914e0495c80f59645aac2e",
            "ca74bfdc74d74f27870df34400ce6fff",
            "b5a325e328a2453488005bafe508ba01",
            "30fff48fc18348e6b9ce0caf2cf1e0ae",
            "4f19853abfa04f0d91e37865301a55e2",
            "dd2b834f8da345d5a3229d1c7ab738a7",
            "d53cc7e40962400099ee225bd7d83db9",
            "e9116d3dc7e64600a8705e624530b97e",
            "96b34197bb3b4424a96a42cb6ed30662",
            "8969fd2fa805447e8218f15eb55b14b9",
            "5eb556a374a24f7fa8c729e2587003e6",
            "8937dc1317bc4d7f97d7512eb7696867",
            "7cb36c38f8c74dabb372af58785d798b",
            "393b259b4e7a4a8bb8324859244196c6",
            "1331006a04c943e4acdea17dc5747321",
            "506bca8d47f04d51b6518c49ebbb2310",
            "fe1ea92e26c84173a4ba176a7d0df138",
            "5e167694a5fe444296c7be59057a206a",
            "f7278bd27c8448e9aa981c1a3176a5a1",
            "0a4f21e131064c17b30e57099de4c9b1",
            "3c34d879ffd24f00890895c97fd16d34",
            "eddaa8818bf84b2fadcdc839b1d73c6d",
            "49098cd175d94230b835180bf0a62307",
            "678b3014134a4e5392eb3dc37f545ca0",
            "a3c9cd8b83e54c1a810b82a876fb03cc",
            "fd9ffd0acb4f41a8a48386963af4e1ae",
            "86b41ce942c5499fbd2815d40496fe2d",
            "f4d7d282c89d4d94990520c976b6bbfd",
            "e5f84d1afd98498b9e7526b48ea6c0e0",
            "6548562295a540ec94d6f8151322f349",
            "af454e1b1fdd49f6a5513d9e5640fd4d",
            "ebec8e0903e0420a9c46a63c84e17d40",
            "7e2277eb232b42f790a2d9c8a4e93764",
            "daeb042c8a3d45c3badcf8d8f94c4fd8",
            "cf69ff6fd2224ebbaf8319e6b0dc4404",
            "66e59f8402bd4c27916b7b27c1096c5d",
            "733e6720424f466fa8e4d6b7c5d05e6b",
            "217a0dadacc14fb5b9fb0cb5dd8e2357"
          ]
        },
        "outputId": "5705b146-9e56-4817-d491-b47d393cb3b6"
      },
      "execution_count": null,
      "outputs": [
        {
          "output_type": "stream",
          "name": "stderr",
          "text": [
            "/usr/local/lib/python3.10/dist-packages/sentence_transformers/cross_encoder/CrossEncoder.py:11: TqdmExperimentalWarning: Using `tqdm.autonotebook.tqdm` in notebook mode. Use `tqdm.tqdm` instead to force console mode (e.g. in jupyter console)\n",
            "  from tqdm.autonotebook import tqdm, trange\n",
            "/usr/local/lib/python3.10/dist-packages/huggingface_hub/utils/_token.py:89: UserWarning: \n",
            "The secret `HF_TOKEN` does not exist in your Colab secrets.\n",
            "To authenticate with the Hugging Face Hub, create a token in your settings tab (https://huggingface.co/settings/tokens), set it as secret in your Google Colab and restart your session.\n",
            "You will be able to reuse this secret in all of your notebooks.\n",
            "Please note that authentication is recommended but still optional to access public models or datasets.\n",
            "  warnings.warn(\n"
          ]
        },
        {
          "output_type": "display_data",
          "data": {
            "text/plain": [
              "modules.json:   0%|          | 0.00/349 [00:00<?, ?B/s]"
            ],
            "application/vnd.jupyter.widget-view+json": {
              "version_major": 2,
              "version_minor": 0,
              "model_id": "1eabc4e19dc447798bf984a5d27f70f3"
            }
          },
          "metadata": {}
        },
        {
          "output_type": "display_data",
          "data": {
            "text/plain": [
              "config_sentence_transformers.json:   0%|          | 0.00/116 [00:00<?, ?B/s]"
            ],
            "application/vnd.jupyter.widget-view+json": {
              "version_major": 2,
              "version_minor": 0,
              "model_id": "e284b8d5c3a24966bbf2d68bd3f848fc"
            }
          },
          "metadata": {}
        },
        {
          "output_type": "display_data",
          "data": {
            "text/plain": [
              "README.md:   0%|          | 0.00/10.7k [00:00<?, ?B/s]"
            ],
            "application/vnd.jupyter.widget-view+json": {
              "version_major": 2,
              "version_minor": 0,
              "model_id": "1fa9dcd6f53e4f12b1b097060f7d1b22"
            }
          },
          "metadata": {}
        },
        {
          "output_type": "display_data",
          "data": {
            "text/plain": [
              "sentence_bert_config.json:   0%|          | 0.00/53.0 [00:00<?, ?B/s]"
            ],
            "application/vnd.jupyter.widget-view+json": {
              "version_major": 2,
              "version_minor": 0,
              "model_id": "0ae9fd4485e0425b97898671efda3217"
            }
          },
          "metadata": {}
        },
        {
          "output_type": "display_data",
          "data": {
            "text/plain": [
              "config.json:   0%|          | 0.00/612 [00:00<?, ?B/s]"
            ],
            "application/vnd.jupyter.widget-view+json": {
              "version_major": 2,
              "version_minor": 0,
              "model_id": "b28c94a201484ed4aafc037128ebef9e"
            }
          },
          "metadata": {}
        },
        {
          "output_type": "display_data",
          "data": {
            "text/plain": [
              "model.safetensors:   0%|          | 0.00/90.9M [00:00<?, ?B/s]"
            ],
            "application/vnd.jupyter.widget-view+json": {
              "version_major": 2,
              "version_minor": 0,
              "model_id": "844d10ce9f1d429abe089f0c65df36ee"
            }
          },
          "metadata": {}
        },
        {
          "output_type": "display_data",
          "data": {
            "text/plain": [
              "tokenizer_config.json:   0%|          | 0.00/350 [00:00<?, ?B/s]"
            ],
            "application/vnd.jupyter.widget-view+json": {
              "version_major": 2,
              "version_minor": 0,
              "model_id": "074f51f96dbb48e49d45161dc7e0f9ce"
            }
          },
          "metadata": {}
        },
        {
          "output_type": "display_data",
          "data": {
            "text/plain": [
              "vocab.txt:   0%|          | 0.00/232k [00:00<?, ?B/s]"
            ],
            "application/vnd.jupyter.widget-view+json": {
              "version_major": 2,
              "version_minor": 0,
              "model_id": "13147eb5ecf144ce8962b404123407b6"
            }
          },
          "metadata": {}
        },
        {
          "output_type": "display_data",
          "data": {
            "text/plain": [
              "tokenizer.json:   0%|          | 0.00/466k [00:00<?, ?B/s]"
            ],
            "application/vnd.jupyter.widget-view+json": {
              "version_major": 2,
              "version_minor": 0,
              "model_id": "dd2b834f8da345d5a3229d1c7ab738a7"
            }
          },
          "metadata": {}
        },
        {
          "output_type": "display_data",
          "data": {
            "text/plain": [
              "special_tokens_map.json:   0%|          | 0.00/112 [00:00<?, ?B/s]"
            ],
            "application/vnd.jupyter.widget-view+json": {
              "version_major": 2,
              "version_minor": 0,
              "model_id": "fe1ea92e26c84173a4ba176a7d0df138"
            }
          },
          "metadata": {}
        },
        {
          "output_type": "display_data",
          "data": {
            "text/plain": [
              "1_Pooling/config.json:   0%|          | 0.00/190 [00:00<?, ?B/s]"
            ],
            "application/vnd.jupyter.widget-view+json": {
              "version_major": 2,
              "version_minor": 0,
              "model_id": "f4d7d282c89d4d94990520c976b6bbfd"
            }
          },
          "metadata": {}
        }
      ]
    },
    {
      "cell_type": "code",
      "source": [
        "#@title Cálculo do Embedding\n",
        "\n",
        "# Calcular as incorporações e adicioná-las à coluna 'embeddings'\n",
        "df3_copy['embeddings'] = df3_copy['combined'].apply(lambda x: model.encode(x))\n"
      ],
      "metadata": {
        "id": "MLkBTP6YU360"
      },
      "execution_count": null,
      "outputs": []
    },
    {
      "cell_type": "markdown",
      "source": [
        "<h3><strong>2.4 Avaliação de <I>Embeddings</I> de itens</strong></h3>\n",
        "\n",
        "Agora, vamos verificar a qualidade das incorporações. É realmente representativa da categoria ou subcategoria do item? Optamos por verificar a subcategoria, uma vez que todos os itens que carregamos e inferimos embeddings estão numa categoria, ou seja, moda."
      ],
      "metadata": {
        "id": "zro9Mxj4c1hZ"
      }
    },
    {
      "cell_type": "markdown",
      "source": [
        "<h3><strong>2.5 Atribuição de subcategoria</strong></h3>\n",
        "\n",
        "Assim, primeiro vamos adicionar uma coluna sub_categoria ao nosso conjunto de dados:"
      ],
      "metadata": {
        "id": "Ds7a3HuTc2TI"
      }
    },
    {
      "cell_type": "code",
      "source": [
        "def atribuir_sub_categoria(x):\n",
        "    x = x.lower()\n",
        "    for sub_cat in ['roupa', 'joia', 'sapato', 'relogio']:\n",
        "        if sub_cat in x:\n",
        "            return sub_cat\n",
        "    for sub_cat in ['bolsa', 'carteira']:\n",
        "        if sub_cat in x:\n",
        "            return 'bolsa & carteira'\n",
        "    for sub_cat in ['cinto', 'chapeu', 'cachecol', 'oculos de sol', 'gravata']:\n",
        "        if sub_cat in x:\n",
        "            return sub_cat\n",
        "    for sub_cat in ['roupa esportiva', 'roupa de banho', 'roupa de inverno', 'meias']:\n",
        "        if sub_cat in x:\n",
        "            return sub_cat\n",
        "    for sub_cat in ['bagagem', 'mochila', 'viagem']:\n",
        "        if sub_cat in x:\n",
        "            return 'bagagem & acessórios de viagem'\n",
        "    for sub_cat in ['roupa intima', 'roupa de baixo']:\n",
        "        if sub_cat in x:\n",
        "            return 'roupa intima'\n",
        "    return 'outros'\n",
        "\n",
        "  # Adicionar a coluna 'sub_categoria' usando .loc[]\n",
        "df3_copy.loc[:, 'sub_categoria'] = df3_copy['combined'].apply(lambda x: atribuir_sub_categoria(x))\n",
        "\n",
        "# Verificar os resultados\n",
        "print(df3_copy[['combined', 'sub_categoria']].head())\n"
      ],
      "metadata": {
        "id": "IwLT61VgfSLy",
        "colab": {
          "base_uri": "https://localhost:8080/"
        },
        "outputId": "a93bae94-c653-4941-f85f-6af863db2140"
      },
      "execution_count": null,
      "outputs": [
        {
          "output_type": "stream",
          "name": "stdout",
          "text": [
            "                                            combined sub_categoria\n",
            "0  ** Vestido Midi Floral com Alças Finas **, Mat...        outros\n",
            "1  ** Vestido Longo Floral com Alças Finas **, Ma...         roupa\n",
            "2  Tênis Casual Estiloso para o Dia a Dia Materia...         roupa\n",
            "3  Vestido Floral Midi com Decote em V **Estampa:...         roupa\n",
            "4  Saia de Couro com Cinto Material: 100% couro, ...         roupa\n"
          ]
        }
      ]
    },
    {
      "cell_type": "markdown",
      "source": [
        "\n",
        "\n",
        "```\n",
        "{0: 'cinto',\n",
        "1: 'roupas',\n",
        "2: 'bolsa e carteira',\n",
        "3: 'chapéu',\n",
        "4: 'outros',\n",
        "5: 'cachecol',\n",
        "6: 'sapato',\n",
        "7: 'meias',\n",
        "8: 'gravata',\n",
        "9: 'relógio'}\n",
        "```\n",
        "\n"
      ],
      "metadata": {
        "id": "kkOekaJSLYXb"
      }
    },
    {
      "cell_type": "markdown",
      "source": [
        "<h3><strong>2.6 Visualização <I>TSNE</I></strong></h3>\n",
        "\n",
        "Agora, que cada item tem uma incorporação e uma subcategoria, vamos desenhá-las em 2D através da TSNE e ver se existem agrupamentos óbvios:"
      ],
      "metadata": {
        "id": "U1KA13o3c2rI"
      }
    },
    {
      "cell_type": "code",
      "source": [
        "import numpy as np\n",
        "from sklearn.manifold import TSNE\n",
        "import matplotlib.pyplot as plt\n",
        "\n",
        "# Certifique-se de que a coluna 'embeddings' foi criada e contém os dados corretos\n",
        "embeddings_array = np.array(df3_copy['embeddings'].tolist())\n",
        "\n",
        "# Garantir que a coluna 'sub_categoria' existe e contém valores válidos\n",
        "categories = df3_copy['sub_categoria'].astype('category').cat.codes\n",
        "\n",
        "# Verificar o número de amostras e ajustar perplexity\n",
        "n_samples = len(embeddings_array)\n",
        "perplexity_value = max(5, min(30, n_samples - 1))  # Certifica-se de que perplexity está entre 5 e (n_samples - 1)\n",
        "\n",
        "# Aplicar t-SNE para reduzir as incorporações para 2D\n",
        "tsne = TSNE(n_components=2, perplexity=perplexity_value, random_state=42)\n",
        "embeddings_2d = tsne.fit_transform(embeddings_array)\n",
        "\n",
        "plt.figure(figsize=(14, 10))\n",
        "scatter = plt.scatter(embeddings_2d[:, 0], embeddings_2d[:, 1], c=categories, cmap='viridis', edgecolor='k', s=50)\n",
        "\n",
        "# Adicionar a legenda de acordo com as subcategorias\n",
        "plt.legend(*scatter.legend_elements(), title=\"Subcategorias\")\n",
        "plt.title('t-SNE 2D das Incorporações de Produtos por Subcategoria')\n",
        "plt.xlabel('Dimensão 1')\n",
        "plt.ylabel('Dimensão 2')\n",
        "plt.show()\n"
      ],
      "metadata": {
        "id": "DI3G83tAfScn",
        "colab": {
          "base_uri": "https://localhost:8080/",
          "height": 763
        },
        "outputId": "2e196f19-6c30-4baf-e846-09ac7b6073d5"
      },
      "execution_count": null,
      "outputs": [
        {
          "output_type": "display_data",
          "data": {
            "text/plain": [
              "<Figure size 1400x1000 with 1 Axes>"
            ],
            "image/png": "[encoded data removed]"
          },
          "metadata": {}
        }
      ]
    },
    {
      "cell_type": "markdown",
      "source": [
        "Se prestar muita atenção ao gráfico, pode ver alguns grupos de itens. Por exemplo, os pontos amarelos formam um grupo que corresponde ao número 8, que corresponde a gravatas. Outro grupo é o verde escuro representando os chapéus (número 3), no meio do gráfico, mais abaixo, e outro grupo mais espalhado é o número 6 que corresponde aos sapatos.\n",
        "\n",
        "Apesar de estarmos em 2D e de, devido à redução da dimensão, termos perdido muita informação, os embeddings continuam a representar as subcategorias."
      ],
      "metadata": {
        "id": "2D6X3XTOVEsk"
      }
    },
    {
      "cell_type": "markdown",
      "source": [
        "<h3><strong>2.7 Classificação <I>KNN</I></strong></h3>\n",
        "\n",
        "De seguida, vamos utilizar estes embeddings para classificar os itens na sua subcategoria. Para o fazer, utilizamos o algoritmo de classificação KNN (K Nearest Neighbor) do Scikit-learn:\n",
        "\n"
      ],
      "metadata": {
        "id": "GnbRidI8GO4x"
      }
    },
    {
      "cell_type": "code",
      "source": [
        "from sklearn.model_selection import train_test_split\n",
        "from sklearn.neighbors import KNeighborsClassifier\n",
        "from sklearn.metrics import classification_report\n",
        "\n",
        "X = np.array(df3_copy['embeddings'].tolist())\n",
        "y = df3_copy['sub_categoria']\n",
        "\n",
        "X_train, X_test, y_train, y_test = train_test_split(X, y, test_size=0.3)\n",
        "\n",
        "# Initialize and train the k-NN classifier\n",
        "knn = KNeighborsClassifier(n_neighbors=5)\n",
        "knn.fit(X_train, y_train)\n",
        "\n",
        "# Make predictions\n",
        "y_pred = knn.predict(X_test)\n",
        "\n",
        "# Evaluate the classifier\n",
        "print(classification_report(y_test, y_pred))"
      ],
      "metadata": {
        "id": "3DFzRC89GPBO",
        "colab": {
          "base_uri": "https://localhost:8080/"
        },
        "outputId": "0021b2d8-09ef-4f67-8632-9dea3b861d39"
      },
      "execution_count": null,
      "outputs": [
        {
          "output_type": "stream",
          "name": "stdout",
          "text": [
            "                  precision    recall  f1-score   support\n",
            "\n",
            "bolsa & carteira       0.87      0.93      0.90        14\n",
            "        cachecol       1.00      0.80      0.89        10\n",
            "           cinto       0.88      0.61      0.72        23\n",
            "         gravata       1.00      1.00      1.00         4\n",
            "           meias       0.00      0.00      0.00         3\n",
            "          outros       0.85      0.97      0.91        89\n",
            "          sapato       0.83      0.71      0.77         7\n",
            "\n",
            "        accuracy                           0.87       150\n",
            "       macro avg       0.78      0.72      0.74       150\n",
            "    weighted avg       0.85      0.87      0.85       150\n",
            "\n"
          ]
        },
        {
          "output_type": "stream",
          "name": "stderr",
          "text": [
            "/usr/local/lib/python3.10/dist-packages/sklearn/metrics/_classification.py:1471: UndefinedMetricWarning: Precision and F-score are ill-defined and being set to 0.0 in labels with no predicted samples. Use `zero_division` parameter to control this behavior.\n",
            "  _warn_prf(average, modifier, msg_start, len(result))\n",
            "/usr/local/lib/python3.10/dist-packages/sklearn/metrics/_classification.py:1471: UndefinedMetricWarning: Precision and F-score are ill-defined and being set to 0.0 in labels with no predicted samples. Use `zero_division` parameter to control this behavior.\n",
            "  _warn_prf(average, modifier, msg_start, len(result))\n",
            "/usr/local/lib/python3.10/dist-packages/sklearn/metrics/_classification.py:1471: UndefinedMetricWarning: Precision and F-score are ill-defined and being set to 0.0 in labels with no predicted samples. Use `zero_division` parameter to control this behavior.\n",
            "  _warn_prf(average, modifier, msg_start, len(result))\n"
          ]
        }
      ]
    },
    {
      "cell_type": "markdown",
      "source": [
        "Vemos que a média ponderada da precisão, da recuperação e da pontuação f1 se situa na ordem dos 85%, o que é bom. É mais um sinal de que os embeddings são representativos do campo da subcategoria."
      ],
      "metadata": {
        "id": "arXZvCNyVkXC"
      }
    },
    {
      "cell_type": "markdown",
      "source": [
        "\n",
        "\n",
        "---\n",
        "\n"
      ],
      "metadata": {
        "id": "Iyn1NJ22fHG4"
      }
    },
    {
      "cell_type": "markdown",
      "source": [
        "<h1><strong>3. Representação de aprendizagem para usuários</strong></h1>\n",
        "\n",
        "Para construir embeddings de usuários, carregamos o arquivo *item_user_data.json*. Este conjunto de dados contém os itens que os usuários compraram:"
      ],
      "metadata": {
        "id": "SopSi5c4GPlW"
      }
    },
    {
      "cell_type": "code",
      "source": [
        "import pandas as pd\n",
        "purchase_df = pd.read_json(\"item_user_data.json\")\n",
        "print(purchase_df)"
      ],
      "metadata": {
        "id": "i7Qh8SiCUfY-",
        "colab": {
          "base_uri": "https://localhost:8080/"
        },
        "outputId": "e169c98c-25d7-4a6f-963a-b1667c464093"
      },
      "execution_count": null,
      "outputs": [
        {
          "output_type": "stream",
          "name": "stdout",
          "text": [
            "      item_id  user_id           timestamp\n",
            "0         345       87 2023-04-22 05:44:52\n",
            "1         224       19 2022-12-10 08:57:15\n",
            "2         257       50 2023-04-24 20:20:35\n",
            "3         250       31 2023-11-24 21:14:42\n",
            "4         467       61 2022-02-27 11:55:04\n",
            "...       ...      ...                 ...\n",
            "3495       10       55 2022-02-10 12:16:14\n",
            "3496      219       97 2023-10-23 05:40:58\n",
            "3497      128       72 2023-03-27 05:15:37\n",
            "3498      406       43 2022-08-12 12:12:31\n",
            "3499      427        1 2022-10-03 08:18:20\n",
            "\n",
            "[3500 rows x 3 columns]\n"
          ]
        }
      ]
    },
    {
      "cell_type": "markdown",
      "source": [
        "<h3><strong>3.1 Seleção de usuários de alta qualidade</strong></h3>\n",
        "\n",
        "O que queremos fazer é **selecionar usuários de alta qualidade**, esses são usuários que têm um longo histórico de compras. Então, classificamos suas compras no tempo e escolhemos as primeiras N compras como dados de treinamento e as restantes como dados de teste. Os dados de treinamento nos ajudarão a construir sua representação (ou incorporação), e os dados de teste nos permitem testar a qualidade de sua incorporação.\n",
        "\n",
        "Primeiramente, iremos converter a coluna *timestamp* para *unix epoch time* em termos de segundos:"
      ],
      "metadata": {
        "id": "jIB9TOKYVThW"
      }
    },
    {
      "cell_type": "code",
      "source": [
        "# Convertendo 'timestamp' para 'unix epoch time' em segundos\n",
        "purchase_df.loc[:, 'timestamp_int'] = purchase_df['timestamp'].astype(int) // 10**9\n",
        "print(purchase_df)"
      ],
      "metadata": {
        "id": "Gy2eO9MkWl80",
        "colab": {
          "base_uri": "https://localhost:8080/"
        },
        "outputId": "2b7f2d98-9d37-432f-83b8-3a3d99f4a3b0"
      },
      "execution_count": null,
      "outputs": [
        {
          "output_type": "stream",
          "name": "stdout",
          "text": [
            "      item_id  user_id           timestamp  timestamp_int\n",
            "0         345       87 2023-04-22 05:44:52     1682142292\n",
            "1         224       19 2022-12-10 08:57:15     1670662635\n",
            "2         257       50 2023-04-24 20:20:35     1682367635\n",
            "3         250       31 2023-11-24 21:14:42     1700860482\n",
            "4         467       61 2022-02-27 11:55:04     1645962904\n",
            "...       ...      ...                 ...            ...\n",
            "3495       10       55 2022-02-10 12:16:14     1644495374\n",
            "3496      219       97 2023-10-23 05:40:58     1698039658\n",
            "3497      128       72 2023-03-27 05:15:37     1679894137\n",
            "3498      406       43 2022-08-12 12:12:31     1660306351\n",
            "3499      427        1 2022-10-03 08:18:20     1664785100\n",
            "\n",
            "[3500 rows x 4 columns]\n"
          ]
        }
      ]
    },
    {
      "cell_type": "markdown",
      "source": [
        "Por conseguinte, uma nova coluna *timestamp_int* é adicionada e, em seguida, selecionamos então usuários que são de “alta qualidade”, ou seja, que têm um longo histórico de compras. Aqui definimos “longo” como 30 itens ou mais:"
      ],
      "metadata": {
        "id": "mVPaLLGcW5p-"
      }
    },
    {
      "cell_type": "code",
      "source": [
        "users_to_items = {}\n",
        "\n",
        "for _,row in purchase_df.iterrows():\n",
        "    user = row['user_id']\n",
        "    item = row['item_id']\n",
        "    time = row['timestamp_int']\n",
        "    if user not in users_to_items:\n",
        "        users_to_items[user] = []\n",
        "    users_to_items[user].append((item, time))\n",
        "\n",
        "\n",
        "selected_users = {}\n",
        "for k,v in users_to_items.items():\n",
        "    items = list(set([x[0] for x in v]))\n",
        "    if len(items)>=30:\n",
        "        selected_users[k] = v\n",
        "\n",
        "# Isso faz com que o 'selected_users' é o nosso dicionário para trabalhar."
      ],
      "metadata": {
        "id": "QKbUPZAEXZJq"
      },
      "execution_count": null,
      "outputs": []
    },
    {
      "cell_type": "markdown",
      "source": [
        "<h3><strong>3.2 Divisão de teste de treinamento para dados do usuário</strong></h3>\n",
        "\n",
        "Com os dados desses usuários, vamos dividi-los em treinamento e testes:\n"
      ],
      "metadata": {
        "id": "T_BSInVEXjP_"
      }
    },
    {
      "cell_type": "code",
      "source": [
        "from collections import defaultdict\n",
        "\n",
        "def split_user_data(selected_users, test_size=10):\n",
        "    train_data = defaultdict(list)\n",
        "    test_data = defaultdict(list)\n",
        "\n",
        "    for user, purchases in selected_users.items():\n",
        "        # Classificar compras por tempo\n",
        "        sorted_purchases = sorted(purchases, key=lambda x: x[1])\n",
        "\n",
        "        # Dividir em treinamento e teste\n",
        "        if len(sorted_purchases) > test_size:\n",
        "            train_data[user] = sorted_purchases[:-test_size]\n",
        "            test_data[user] = sorted_purchases[-test_size:]\n",
        "        else:\n",
        "            train_data[user] = []\n",
        "            test_data[user] = sorted_purchases\n",
        "\n",
        "    return dict(train_data), dict(test_data)\n",
        "\n",
        "train_data, test_data = split_user_data(selected_users, test_size=10)"
      ],
      "metadata": {
        "id": "_fTlhBa_YE_C"
      },
      "execution_count": null,
      "outputs": []
    },
    {
      "cell_type": "markdown",
      "source": [
        "Dado a isso, pegamos as últimas 10 compras de cada usuário como seus dados de teste, e o restante como seus dados de treinamento. Visto que esses 10 itens são seus exemplos positivos, signifca que, esses são os itens que os usuários realmente compraram.\n",
        "\n"
      ],
      "metadata": {
        "id": "h6flTuleYh1Q"
      }
    },
    {
      "cell_type": "markdown",
      "source": [
        "<h3><strong>3.3 Adicionando Exemplos Negativos</strong></h3>\n",
        "\n",
        "Paralemente, é necessário incluir alguns exemplos negativos, ou seja, itens que os usuários não compraram. Para isso, selecionamos aleatoriamente 10 itens de todos os itens disponíveis, que não estão no histórico de compras do usuário nem nos dados de teste que queremos prever. Esses itens formam nossos exemplos negativos."
      ],
      "metadata": {
        "id": "WqMtoAB9ZdMM"
      }
    },
    {
      "cell_type": "code",
      "source": [
        "import random\n",
        "\n",
        "# Coletar todos os itens exclusivos\n",
        "all_items = set()\n",
        "for purchases in selected_users.values():\n",
        "    for item, _ in purchases:\n",
        "        all_items.add(item)\n",
        "\n",
        "# Mostrar 10 itens para cada usuário que eles não compraram\n",
        "negative_examples = {}\n",
        "for user, purchases in selected_users.items():\n",
        "    user_items = {item for item, _ in purchases}\n",
        "    available_items = list(all_items - user_items)\n",
        "    if len(available_items) >= 10:\n",
        "        sampled_items = random.sample(available_items, 10)\n",
        "    else:\n",
        "        sampled_items = available_items  # Se menos de 10, retornar todos os disponíveis\n",
        "    negative_examples[user] = sampled_items"
      ],
      "metadata": {
        "id": "kC8MJXNuZ6GS"
      },
      "execution_count": null,
      "outputs": []
    },
    {
      "cell_type": "markdown",
      "source": [
        "Nossos exemplos positivos também são o conjunto de itens que os usuários compraram. Este conjunto também contém 10 exemplos positivos por usuário."
      ],
      "metadata": {
        "id": "82afuZULbHWk"
      }
    },
    {
      "cell_type": "code",
      "source": [
        "# Exemplos positivos\n",
        "positive_examples = {}\n",
        "for k,v in test_data.items():\n",
        "    positive_examples[k] = [item[0] for item in v]"
      ],
      "metadata": {
        "id": "0HX6Hm2VbKiR"
      },
      "execution_count": null,
      "outputs": []
    },
    {
      "cell_type": "markdown",
      "source": [
        "Assim, podemos afirmar que o conjunto de teste é a união tanto de exemplos positivos quanto exemplos negativos para cada usuário:"
      ],
      "metadata": {
        "id": "xGCJF3-WbQBL"
      }
    },
    {
      "cell_type": "code",
      "source": [
        "test_set = {}\n",
        "for user, v in positive_examples.items():\n",
        "    test_set[user] = list(set(v + negative_examples[user]))"
      ],
      "metadata": {
        "id": "TD84GepMbb5y"
      },
      "execution_count": null,
      "outputs": []
    },
    {
      "cell_type": "markdown",
      "source": [
        "\n",
        "\n",
        "---\n",
        "\n"
      ],
      "metadata": {
        "id": "696edX05fLZA"
      }
    },
    {
      "cell_type": "markdown",
      "source": [
        "<h1><strong>4. Avaliando a qualidade das recomendações</strong></h1>"
      ],
      "metadata": {
        "id": "f8P9kFGzGrBa"
      }
    },
    {
      "cell_type": "markdown",
      "source": [
        "<h3><strong>4.1 Métrica <I>Precision@k</I> e sua implementação</strong></h3>\n",
        "\n",
        "Para avaliar a qualidade das recomendações, usamos uma métrica comum. Essa métrica é <i>precision@k</i>, na qual ela analisa os principais <i>k</i> itens recomendados e mede qual porcentagem de relevância deles, onde a relevância significaria que eles estão em exemplos positivos do usuário.\n",
        "\n",
        "A definição de <i>precision@k</i> é a seguinte:![1_b2sRxIu0WkqPtdCNTu3KTA.png](data:image/png;base64,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)"
      ],
      "metadata": {
        "id": "4p-U1BKyG0s9"
      }
    },
    {
      "cell_type": "code",
      "source": [
        "def precision_at_k(user_recommendations, k): # É um dicionário onde as keys são user_id e os valores são listas de tuplas com (item, relevância) -> A relevância indica se o item é relevante (1) ou não (0)\n",
        "    \"\"\"\n",
        "    Calcule a precisão em k para um conjunto de recomendações do usuário.\n",
        "\n",
        "    :param user_recommendations: dict, onde key é um ID de usuário e value é uma lista de tuplas (item, relevância)\n",
        "    :param k: int, o número de recomendações principais a serem consideradas\n",
        "    :return: média de precisão em k pontuações para todos os usuários\n",
        "    \"\"\"\n",
        "    precision_scores = {} # É um dicionário que armazenará a precisão de cada usuário\n",
        "\n",
        "    for user, recommendations in user_recommendations.items():\n",
        "        # Pega as principais recomendações k para o usuário\n",
        "        top_k_recommendations = recommendations[:k]\n",
        "\n",
        "        # Conta o número de itens relevantes nas principais recomendações k\n",
        "        relevant_count = sum([1 for item, relevance in top_k_recommendations if relevance == 1])\n",
        "\n",
        "        # Calcula a precisão em k\n",
        "        precision = relevant_count / k\n",
        "\n",
        "        precision_scores[user] = precision\n",
        "\n",
        "    l = list(precision_scores.values())\n",
        "    return 100 * sum(l) / len(l)\n",
        "\n",
        "    # Multiplicamos por 100 para expressão a precisão em porcentagem"
      ],
      "metadata": {
        "id": "GqRug--oeurQ"
      },
      "execution_count": null,
      "outputs": []
    },
    {
      "cell_type": "markdown",
      "source": [
        "\n",
        "\n",
        "---\n",
        "\n"
      ],
      "metadata": {
        "id": "4gUEPX6VfMq0"
      }
    },
    {
      "cell_type": "markdown",
      "source": [
        "<h1><strong>5. Construindo Embeddings de Usuários</strong></h1>\n",
        "\n",
        "Tendo a métrica de avaliação e os dados também prontos, podemos construir embeddings de usuários."
      ],
      "metadata": {
        "id": "XNYAW9Q5G1Qi"
      }
    },
    {
      "cell_type": "markdown",
      "source": [
        "<h3><strong>5.1 Abordagem 1: Usuários como uma sacola de suas compras</strong></h3>\n",
        "\n",
        "O método mais simples é definir o embedding do usuário como um saco de embeddings de seus itens. Nessa abordagem, não há um embedding atribuído a um usuário, mas uma lista de embeddings é considerada como um representante para o usuário.\n",
        "\n",
        "Vamos carregar os embeddings e calcular as pontuações de similaridade de cosseno entre o *test_set* (que contém exemplos positivos e negativos) e o embedding do usuário."
      ],
      "metadata": {
        "id": "lxaip16WG3x5"
      }
    },
    {
      "cell_type": "code",
      "source": [
        "import json\n",
        "import numpy as np\n",
        "from numpy.linalg import norm\n",
        "from collections import defaultdict\n",
        "import ast\n",
        "\n",
        "# Simulação de carregamento de dados de um arquivo\n",
        "item_user_data = {\n",
        "    \"item1\": np.random.rand(10).tolist(),\n",
        "    \"item2\": np.random.rand(10).tolist(),\n",
        "    \"item3\": np.random.rand(10).tolist(),\n",
        "}\n",
        "\n",
        "# Converte os dados em formato apropriado e salva em JSON\n",
        "with open('fashion_item_emb.json', 'w') as f:\n",
        "    json.dump(item_user_data, f)\n",
        "\n",
        "def compute_scores(train_data, test_set, embeddings_file):\n",
        "    # Carregar embeddings\n",
        "    with open(embeddings_file, 'r') as f:\n",
        "        embeddings = json.load(f)\n",
        "\n",
        "    # Inicializar o dicionário de resultados\n",
        "    scores = defaultdict(list)\n",
        "\n",
        "    # Calcular pontuações para cada usuário\n",
        "    for user, train_items in train_data.items():\n",
        "        train_items = [item for item, _ in train_items]\n",
        "        train_vectors = [embeddings[item] for item in train_items if item in embeddings]\n",
        "\n",
        "        if user in test_set:\n",
        "            test_items = test_set[user]\n",
        "            for test_item in test_items:\n",
        "                if test_item in embeddings:\n",
        "                    test_vector = embeddings[test_item]\n",
        "                    similarity_sum = sum(cosine_similarity(test_vector, train_vector) for train_vector in train_vectors)\n",
        "                    scores[user].append((test_item, similarity_sum))\n",
        "\n",
        "    return dict(scores)\n",
        "\n",
        "embeddings_file = 'fashion_item_emb.json'  # Este arquivo contém os embeddings\n",
        "scores = compute_scores(train_data, test_set, embeddings_file)"
      ],
      "metadata": {
        "id": "PPNPSjJ3fTsr"
      },
      "execution_count": null,
      "outputs": []
    },
    {
      "cell_type": "markdown",
      "source": [
        "Agora que temos as recomendações de cada usuário, vamos ordenar as formas decrescentes e adicionar relevância (1 ou 0):"
      ],
      "metadata": {
        "id": "wp-l1F0pLf_G"
      }
    },
    {
      "cell_type": "code",
      "source": [
        "users_recom = {}\n",
        "for user, v in scores.items():\n",
        "    users_recom[user] = []\n",
        "    ll = sorted(v, key=lambda x: x[1], reverse=True)\n",
        "    for item,_ in ll:\n",
        "        if item in positive_examples[user]:\n",
        "            users_recom[user].append((item, 1))\n",
        "        else:\n",
        "            users_recom[user].append((item, 0))"
      ],
      "metadata": {
        "id": "KtYa-ZykLol6"
      },
      "execution_count": null,
      "outputs": []
    },
    {
      "cell_type": "markdown",
      "source": [
        "Vamos imprimir *precision@k* para k=1, 3, 5."
      ],
      "metadata": {
        "id": "EPl2kn42LtaL"
      }
    },
    {
      "source": [
        "def precision_at_k(sorted_scores, k):\n",
        "    relevant_items = {item for item, relevance in sorted_scores if relevance[1] == 1}\n",
        "    retrieved_items = {item for item, _ in sorted_scores[:k]}\n",
        "\n",
        "    if len(retrieved_items) == 0:  # Para evitar divisão por zero\n",
        "        return 0.0\n",
        "\n",
        "    # Calculating Precision\n",
        "    true_positives = len(relevant_items.intersection(retrieved_items))\n",
        "    return true_positives / len(retrieved_items)\n",
        "\n",
        "k_values = [2, 5]\n",
        "for k in k_values:\n",
        "    precision = precision_at_k(sorted_scores, k)\n",
        "    print(f'Precision@{k}: {precision *100 :.2f}' )"
      ],
      "cell_type": "code",
      "metadata": {
        "colab": {
          "base_uri": "https://localhost:8080/"
        },
        "id": "NqRm0RSlpWfg",
        "outputId": "7c9c9028-bd7c-4a09-e893-a2d12455d824"
      },
      "execution_count": null,
      "outputs": [
        {
          "output_type": "stream",
          "name": "stdout",
          "text": [
            "Precision@2: 50.00\n",
            "Precision@5: 66.67\n"
          ]
        }
      ]
    },
    {
      "cell_type": "markdown",
      "source": [
        "<h3><strong>5.2 Abordagem 2: Média ponderada em decaimento exponencial\n",
        "</strong></h3>\n",
        "\n",
        "Nessa abordagem, calculamos a média ponderada exponencialmente decrescente de embeddings de itens. Em termos simples, um embedding de usuário é a média ponderada de seus embeddings de itens, onde o peso é definido pela função exponencial."
      ],
      "metadata": {
        "id": "87q_PkdbcR9b"
      }
    },
    {
      "cell_type": "code",
      "source": [
        "import numpy as np\n",
        "\n",
        "def compute_user_embedding(purchases, item_embeddings, decay_rate=0.001):\n",
        "    \"\"\"\n",
        "    Calcule o embedding do usuário como a média ponderada de embeddings de itens.\n",
        "    \"\"\"\n",
        "\n",
        "    if not purchases:\n",
        "        return np.zeros_like(next(iter(item_embeddings.values())))\n",
        "\n",
        "    # Extrair item_ids e timestamps\n",
        "    item_ids, timestamps = zip(*purchases)\n",
        "    valid_item_ids, valid_timestamps = [],[]\n",
        "\n",
        "    for i, item_id in enumerate(item_ids):\n",
        "        if item_id in item_embeddings:\n",
        "            valid_item_ids.append(item_id)\n",
        "            valid_timestamps.append(timestamps[i])\n",
        "\n",
        "    # Normalizar timestamps\n",
        "    normalized_timestamps = max(valid_timestamps) - np.array(valid_timestamps)\n",
        "\n",
        "    # Calcular pesos usando decaimento exponencial\n",
        "    weights = np.exp(-decay_rate * normalized_timestamps)\n",
        "\n",
        "    # Calcular embeddings ponderados\n",
        "    embeddings = np.array([item_embeddings[item_id] for item_id in valid_item_ids])\n",
        "    weighted_embeddings = embeddings * weights[:, np.newaxis]\n",
        "\n",
        "    # Calcular a média ponderada\n",
        "    user_embedding = weighted_embeddings.sum(axis=0) / weights.sum()\n",
        "\n",
        "    return user_embedding"
      ],
      "metadata": {
        "id": "sX-qg9zkG34l"
      },
      "execution_count": null,
      "outputs": []
    },
    {
      "cell_type": "markdown",
      "source": [
        "Na função acima, os parâmetros são os seguintes: — *purchases* : Lista de tuplas (item_id, timestamp) — *item_embeddings* : Dicionário mapeando item_id para vetor de incorporação — *decay_rate* : Taxa de decaimento exponencial para ponderar a atualidade."
      ],
      "metadata": {
        "id": "zUvaNpDIQRVQ"
      }
    },
    {
      "cell_type": "markdown",
      "source": [
        "Agora que temos os embeddings dos usuários, vamos calcular recomendações e medir *precision@k*."
      ],
      "metadata": {
        "id": "w3h3N97EQ9f4"
      }
    },
    {
      "cell_type": "code",
      "source": [
        "def compute_recoms_exp_decay(user_embedding, test_set, embeddings_file, positive_examples):\n",
        "    #Carregar os embeddings\n",
        "    embeddings = load_embeddings(embeddings_file)\n",
        "    scores = defaultdict(list)\n",
        "    users_recom = defaultdict(list)\n",
        "\n",
        "    # Calcular scores\n",
        "    for user, user_emb in user_embedding.items():\n",
        "        if user in test_set:\n",
        "            test_items = test_set[user]\n",
        "            for test_item in test_items:\n",
        "                if test_item in embeddings:\n",
        "                    test_vector = embeddings[test_item]\n",
        "                    similarity_score = cosine_similarity(test_vector, user_emb)\n",
        "                    scores[user].append((test_item, similarity_score))\n",
        "\n",
        "        ll = sorted(scores[user], key=lambda x: x[1], reverse=True)\n",
        "        for item,_ in ll:\n",
        "            if item in positive_examples[user]:\n",
        "                users_recom[user].append((item, 1))\n",
        "            else:\n",
        "                users_recom[user].append((item, 0))\n",
        "    return users_recom"
      ],
      "metadata": {
        "id": "XK3U62ynRE2w"
      },
      "execution_count": null,
      "outputs": []
    },
    {
      "cell_type": "code",
      "execution_count": null,
      "metadata": {
        "id": "9DFCSBiuRKnN",
        "colab": {
          "base_uri": "https://localhost:8080/"
        },
        "outputId": "6d4b6e10-4226-4201-b838-70c3d590e58e"
      },
      "outputs": [
        {
          "output_type": "stream",
          "name": "stdout",
          "text": [
            "Precision@3: 66.67\n"
          ]
        }
      ],
      "source": [
        "def precision_at_k(relevant_items, retrieved_items, k):\n",
        "    \"\"\"\n",
        "    Calcula a precisão@k.\n",
        "\n",
        "    :param relevant_items: Conjunto de itens relevantes (list)\n",
        "    :param retrieved_items: Resultados retornados pelo sistema (list)\n",
        "    :param k: Número de itens a considerar (int)\n",
        "    :return: Precisão@k (float)\n",
        "    \"\"\"\n",
        "    # Limitar k ao tamanho da lista de itens recuperados\n",
        "    k = min(k, len(retrieved_items))\n",
        "\n",
        "    # Contar o número de itens relevantes nos k primeiros resultados\n",
        "    relevant_count = sum(1 for item in retrieved_items[:k] if item in relevant_items)\n",
        "\n",
        "    # Calcular precisão@k\n",
        "    precision = relevant_count / k\n",
        "    return precision\n",
        "\n",
        "# Exemplo de uso\n",
        "if __name__ == \"__main__\":\n",
        "    relevant = ['item1', 'item2', 'item3', 'item4']\n",
        "    retrieved = ['item1', 'item5', 'item3', 'item6', 'item7']\n",
        "    k = 3\n",
        "\n",
        "    precision = precision_at_k(relevant, retrieved, k)\n",
        "    print(f'Precision@{k}: {precision *100 :.2f}')"
      ]
    },
    {
      "cell_type": "markdown",
      "source": [
        "\n",
        "\n",
        "---\n",
        "\n"
      ],
      "metadata": {
        "id": "LdSUH_1tfNn_"
      }
    },
    {
      "cell_type": "markdown",
      "source": [
        "<h1><strong>Conclusão</strong></h1>"
      ],
      "metadata": {
        "id": "YEGkhikvG4Fw"
      }
    },
    {
      "cell_type": "markdown",
      "source": [
        "Analisamos o problema da recomendação no domínio do e-commerce e exploramos como a IA generativa pode ajudar a calcular recomendações relevantes para os usuários.\n",
        "\n",
        "Primeiro, mostramos como gerar os dados sinteticamente e, em seguida, dividimos o problema em dois subproblemas: 1) aprendizado de embeddings de itens e 2) aprendizado de embeddings de usuários e, finalmente, o uso dos dois embeddings para calcular uma pontuação de similaridade como uma pontuação de recomendação. Também falamos sobre uma métrica de avaliação comum chamada *precision@k*, que mede a qualidade dos principais k itens recomendados.\n",
        "\n",
        "Recomendação é um dos muitos aspectos que a IA generativa pode melhorar significativamente no domínio do e-commerce."
      ],
      "metadata": {
        "id": "Yg7G2o2QSL0u"
      }
    },
    {
      "cell_type": "markdown",
      "source": [
        "\n",
        "\n",
        "---\n",
        "\n"
      ],
      "metadata": {
        "id": "d1UZtp1W2r9_"
      }
    },
    {
      "cell_type": "markdown",
      "source": [
        "<h1><strong>Referências</strong></h1>\n",
        "\n",
        "[<link> https:/towardsdatascience.com/enhancing-e-commerce-with-generative-ai-part-1-9e402fb30e7b </link>](https://)"
      ],
      "metadata": {
        "id": "QiYTkKOQ2yMF"
      }
    },
    {
      "cell_type": "markdown",
      "source": [
        "<h1><strong>Integrantes</strong></h1>\n",
        "<h3>Giulia de Oliveira Machado RA: 11202130151<br>\n",
        "Isabelly Oliveira RA: 11202231155<br>\n",
        "Wagner Ryu Kamiya RA: 11202231732</h3>"
      ],
      "metadata": {
        "id": "ZKqvRqFt3ISW"
      }
    }
  ]
}